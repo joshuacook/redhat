{
 "cells": [
  {
   "cell_type": "code",
   "execution_count": 1,
   "metadata": {
    "collapsed": true
   },
   "outputs": [],
   "source": [
    "import psycopg2\n",
    "import numpy as np\n",
    "from os import environ\n",
    "conn = psycopg2.connect(dbname='postgres', user='postgres', host=environ['REDHAT_POSTGRES_1_PORT_5432_TCP_ADDR'])\n",
    "cur = conn.cursor()"
   ]
  },
  {
   "cell_type": "code",
   "execution_count": 2,
   "metadata": {
    "collapsed": false
   },
   "outputs": [
    {
     "name": "stdout",
     "output_type": "stream",
     "text": [
      "(189118,)\n",
      "(2695978,)\n"
     ]
    }
   ],
   "source": [
    "cur.execute(\"SELECT COUNT(*) FROM people\"); print(cur.fetchone())\n",
    "cur.execute(\"SELECT COUNT(*) FROM action\"); print(cur.fetchone())"
   ]
  },
  {
   "cell_type": "code",
   "execution_count": 9,
   "metadata": {
    "collapsed": false
   },
   "outputs": [],
   "source": [
    "cur.execute(\"\"\"SELECT column_name, data_type, character_maximum_length \n",
    "             FROM INFORMATION_SCHEMA.COLUMNS where table_name='people'\"\"\")\n",
    "columns = cur.fetchall()\n",
    "column_names = [col[0] for col in columns]"
   ]
  },
  {
   "cell_type": "code",
   "execution_count": 10,
   "metadata": {
    "collapsed": false
   },
   "outputs": [
    {
     "data": {
      "text/plain": [
       "\"['people_id', 'ppl_char_1', 'ppl_group_1', 'ppl_char_2', 'ppl_date', 'ppl_char_3', 'ppl_char_4', 'ppl_char_5', 'ppl_char_6', 'ppl_char_7', 'ppl_char_8', 'ppl_char_9', 'ppl_char_10', 'ppl_char_11', 'ppl_char_12', 'ppl_char_13', 'ppl_char_14', 'ppl_char_15', 'ppl_char_16', 'ppl_char_17', 'ppl_char_18', 'ppl_char_19', 'ppl_char_20', 'ppl_char_21', 'ppl_char_22', 'ppl_char_23', 'ppl_char_24', 'ppl_char_25', 'ppl_char_26', 'ppl_char_27', 'ppl_char_28', 'ppl_char_29', 'ppl_char_30', 'ppl_char_31', 'ppl_char_32', 'ppl_char_33', 'ppl_char_34', 'ppl_char_35', 'ppl_char_36', 'ppl_char_37', 'ppl_char_38']\""
      ]
     },
     "execution_count": 10,
     "metadata": {},
     "output_type": "execute_result"
    }
   ],
   "source": [
    "str(column_names)"
   ]
  },
  {
   "cell_type": "code",
   "execution_count": 11,
   "metadata": {
    "collapsed": false
   },
   "outputs": [],
   "source": [
    "column_names.remove('people_id')\n",
    "column_names.remove('ppl_group_1')\n",
    "column_names.remove('ppl_date')"
   ]
  },
  {
   "cell_type": "code",
   "execution_count": 12,
   "metadata": {
    "collapsed": false
   },
   "outputs": [
    {
     "data": {
      "text/plain": [
       "\"[('ppl_char_1', 2), ('ppl_char_2', 3), ('ppl_char_3', 43), ('ppl_char_4', 25), ('ppl_char_5', 9), ('ppl_char_6', 7), ('ppl_char_7', 25), ('ppl_char_8', 8), ('ppl_char_9', 9), ('ppl_char_10', 2), ('ppl_char_11', 2), ('ppl_char_12', 2), ('ppl_char_13', 2), ('ppl_char_14', 2), ('ppl_char_15', 2), ('ppl_char_16', 2), ('ppl_char_17', 2), ('ppl_char_18', 2), ('ppl_char_19', 2), ('ppl_char_20', 2), ('ppl_char_21', 2), ('ppl_char_22', 2), ('ppl_char_23', 2), ('ppl_char_24', 2), ('ppl_char_25', 2), ('ppl_char_26', 2), ('ppl_char_27', 2), ('ppl_char_28', 2), ('ppl_char_29', 2), ('ppl_char_30', 2), ('ppl_char_31', 2), ('ppl_char_32', 2), ('ppl_char_33', 2), ('ppl_char_34', 2), ('ppl_char_35', 2), ('ppl_char_36', 2), ('ppl_char_37', 2), ('ppl_char_38', 101)]\""
      ]
     },
     "execution_count": 12,
     "metadata": {},
     "output_type": "execute_result"
    }
   ],
   "source": [
    "names_distinct_counts = []\n",
    "for col in column_names:\n",
    "    cur.execute(\"SELECT COUNT( DISTINCT {}) FROM people\".format(col))\n",
    "    names_distinct_counts.append((col,cur.fetchall()[0][0]))\n",
    "str(names_distinct_counts)"
   ]
  },
  {
   "cell_type": "code",
   "execution_count": null,
   "metadata": {
    "collapsed": false
   },
   "outputs": [],
   "source": [
    "names_distinct = []\n",
    "for col in column_names:\n",
    "    cur.execute(\"SELECT DISTINCT {} FROM people\".format(col))\n",
    "    names_distinct.append(str(col)+'_'+str(c[0] for c in cur.fetchall()))\n",
    "str(names_distinct)"
   ]
  },
  {
   "cell_type": "code",
   "execution_count": 23,
   "metadata": {
    "collapsed": false
   },
   "outputs": [
    {
     "data": {
      "text/plain": [
       "array([[0, 1, 0, 1, 0],\n",
       "       [0, 1, 0, 0, 1],\n",
       "       [0, 1, 0, 0, 1],\n",
       "       [0, 1, 0, 0, 1],\n",
       "       [0, 1, 0, 0, 1],\n",
       "       [0, 1, 0, 0, 1],\n",
       "       [0, 1, 0, 1, 0],\n",
       "       [0, 1, 0, 0, 1],\n",
       "       [0, 1, 0, 0, 1],\n",
       "       [0, 1, 0, 0, 1]])"
      ]
     },
     "execution_count": 23,
     "metadata": {},
     "output_type": "execute_result"
    }
   ],
   "source": [
    "cur.execute(\"SELECT ppl_char_1,ppl_char_2 FROM people LIMIT 10\")\n",
    "this_row = cur.fetchone()\n",
    "one_hot = []\n",
    "while this_row:\n",
    "    one_hot.append([\n",
    "            this_row[0] == 'type 1',\n",
    "            this_row[0] == 'type 2',\n",
    "            this_row[1] == 'type 1',\n",
    "            this_row[1] == 'type 2',\n",
    "            this_row[1] == 'type 3',\n",
    "        ])\n",
    "    this_row = cur.fetchone()\n",
    "np.array(one_hot, dtype=int)"
   ]
  },
  {
   "cell_type": "code",
   "execution_count": 16,
   "metadata": {
    "collapsed": true
   },
   "outputs": [],
   "source": [
    "conn.close()"
   ]
  },
  {
   "cell_type": "code",
   "execution_count": null,
   "metadata": {
    "collapsed": true
   },
   "outputs": [],
   "source": []
  }
 ],
 "metadata": {
  "kernelspec": {
   "display_name": "Python 3",
   "language": "python",
   "name": "python3"
  },
  "language_info": {
   "codemirror_mode": {
    "name": "ipython",
    "version": 3
   },
   "file_extension": ".py",
   "mimetype": "text/x-python",
   "name": "python",
   "nbconvert_exporter": "python",
   "pygments_lexer": "ipython3",
   "version": "3.5.2"
  }
 },
 "nbformat": 4,
 "nbformat_minor": 0
}
