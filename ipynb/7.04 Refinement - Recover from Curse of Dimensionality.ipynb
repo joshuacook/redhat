{
 "cells": [
  {
   "cell_type": "markdown",
   "metadata": {},
   "source": [
    "Wiped Database to remove previously one-hot encoded vectors. "
   ]
  },
  {
   "cell_type": "code",
   "execution_count": 1,
   "metadata": {
    "collapsed": false
   },
   "outputs": [],
   "source": [
    "from os import chdir; chdir('../')"
   ]
  },
  {
   "cell_type": "code",
   "execution_count": 2,
   "metadata": {
    "collapsed": true
   },
   "outputs": [],
   "source": [
    "import json\n",
    "import psycopg2\n",
    "from os import environ"
   ]
  },
  {
   "cell_type": "code",
   "execution_count": 3,
   "metadata": {
    "collapsed": false
   },
   "outputs": [],
   "source": [
    "conn = psycopg2.connect(dbname='postgres', user='postgres', host=environ['REDHAT_POSTGRES_1_PORT_5432_TCP_ADDR'])\n",
    "cur = conn.cursor()\n",
    "column_indices = []\n",
    "action_cols = ['act_char_1',\n",
    "         'act_char_2',\n",
    "         'act_char_3',\n",
    "         'act_char_4',\n",
    "         'act_char_5',\n",
    "         'act_char_6',\n",
    "         'act_char_7',\n",
    "         'act_char_8',\n",
    "         'act_char_9']\n",
    "people_cols = ['ppl_char_1','ppl_char_2','ppl_char_3','ppl_char_4','ppl_char_5',\n",
    "         'ppl_char_6','ppl_char_7','ppl_char_8','ppl_char_9','ppl_char_10',\n",
    "         'ppl_char_11','ppl_char_12','ppl_char_13','ppl_char_14','ppl_char_15',\n",
    "         'ppl_char_16','ppl_char_17','ppl_char_18','ppl_char_19','ppl_char_20',\n",
    "         'ppl_char_21','ppl_char_22','ppl_char_23','ppl_char_24','ppl_char_25',\n",
    "         'ppl_char_26','ppl_char_27','ppl_char_28','ppl_char_29','ppl_char_30',\n",
    "         'ppl_char_31','ppl_char_32','ppl_char_33','ppl_char_34','ppl_char_35',\n",
    "         'ppl_char_36','ppl_char_37']\n",
    "\n",
    "for col in action_cols:\n",
    "    cur.execute(\"SELECT DISTINCT {} from action;\".format(col))  \n",
    "    result = cur.fetchall()\n",
    "    results = [str(res[0]).replace(' ','_') for res in result]\n",
    "    results.sort()\n",
    "    column_indices += [col+'_'+res for res in results]\n",
    "    \n",
    "\n",
    "for col in people_cols:\n",
    "    cur.execute(\"SELECT DISTINCT {} from people;\".format(col))  \n",
    "    result = cur.fetchall()\n",
    "    results = [str(res[0]).replace(' ','_') for res in result]\n",
    "    results.sort()\n",
    "    column_indices += [col+'_'+res for res in results]    \n",
    "\n",
    "column_indices_dict = {col_index:i for i,col_index in enumerate(column_indices)}"
   ]
  },
  {
   "cell_type": "code",
   "execution_count": 4,
   "metadata": {
    "collapsed": false
   },
   "outputs": [],
   "source": [
    "json.dump(column_indices_dict, open(\"lib/helpers/one_hot_indices_min.txt\",'w'))"
   ]
  },
  {
   "cell_type": "markdown",
   "metadata": {},
   "source": [
    "Amended `lib/helpers/database_helper.py`.\n",
    "\n",
    "    from lib.helpers.one_hot_indices_min import one_hot_indices"
   ]
  }
 ],
 "metadata": {
  "kernelspec": {
   "display_name": "Python 3",
   "language": "python",
   "name": "python3"
  },
  "language_info": {
   "codemirror_mode": {
    "name": "ipython",
    "version": 3
   },
   "file_extension": ".py",
   "mimetype": "text/x-python",
   "name": "python",
   "nbconvert_exporter": "python",
   "pygments_lexer": "ipython3",
   "version": "3.5.2"
  }
 },
 "nbformat": 4,
 "nbformat_minor": 0
}
