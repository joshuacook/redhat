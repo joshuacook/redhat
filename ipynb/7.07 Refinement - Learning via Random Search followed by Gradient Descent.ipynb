{
 "cells": [
  {
   "cell_type": "code",
   "execution_count": null,
   "metadata": {
    "collapsed": false
   },
   "outputs": [],
   "source": [
    "from os import chdir; chdir('../')\n",
    "import matplotlib.pyplot as plt\n",
    "import seaborn\n",
    "from lib.app import Q\n",
    "from lib.helpers.database_helper import pull_actions\n",
    "from lib.helpers.database_helper import pull_and_shape_batch\n",
    "from lib.helpers.database_helper import pull_training_and_test_sets\n",
    "from lib.helpers.pipeline_helper import initialize_training_session\n",
    "from lib.helpers.pipeline_helper import prepare_plot_vectors\n",
    "from lib.helpers.pipeline_helper import train_via_random_search, train_via_gradient_descent\n",
    "from lib.helpers.redis_helper import get_best_loss, get_weights_matrix, set_best_loss, set_weights_matrix\n",
    "from lib.helpers.redis_helper import get_training_count, init_training_count\n",
    "from lib.nn.metrics import measure_accuracy, measure_f1_score, correlation_matrix\n",
    "from lib.nn.functions import predict, random_matrix"
   ]
  },
  {
   "cell_type": "markdown",
   "metadata": {},
   "source": [
    "It is of note that we will be doing the training via distributed processing. As such, we can not store the `best_loss` and `weights_matrix` in memory. Instead, we store the values in Redis. We have written a few methods to handle the storage and retrie    val of these values.\n",
    "\n",
    "- `read_best_loss`\n",
    "- `read_weights_matrix`\n",
    "- `write_best_loss`\n",
    "- `write_weights_matrix`"
   ]
  },
  {
   "cell_type": "code",
   "execution_count": null,
   "metadata": {
    "collapsed": false
   },
   "outputs": [],
   "source": [
    "training_set, test_set = pull_training_and_test_sets(limit=700000,split=.99)"
   ]
  },
  {
   "cell_type": "code",
   "execution_count": null,
   "metadata": {
    "collapsed": true
   },
   "outputs": [],
   "source": [
    "features, outcomes = pull_and_shape_batch(action_ids=test_set)"
   ]
  },
  {
   "cell_type": "markdown",
   "metadata": {},
   "source": [
    "## Random Search"
   ]
  },
  {
   "cell_type": "code",
   "execution_count": null,
   "metadata": {
    "collapsed": false,
    "scrolled": false
   },
   "outputs": [],
   "source": [
    "initialize_training_session()\n",
    "batch_size = 50\n",
    "for i in range(int(len(training_set)/batch_size)):\n",
    "    Q.enqueue(train_via_random_search,\n",
    "              action_ids=training_set[i*batch_size:(i+1)*batch_size],\n",
    "              gamma=0.001)\n",
    "    \n",
    "counts, f_1_scores, \\\n",
    "    accuracies, \\\n",
    "    loss_values = prepare_plot_vectors(features, \n",
    "                                       outcomes, \n",
    "                                       length=int(len(training_set)/batch_size))        "
   ]
  },
  {
   "cell_type": "code",
   "execution_count": null,
   "metadata": {
    "collapsed": true
   },
   "outputs": [],
   "source": []
  },
  {
   "cell_type": "code",
   "execution_count": null,
   "metadata": {
    "collapsed": true
   },
   "outputs": [],
   "source": [
    "weights_matrix = get_weights_matrix()\n",
    "\n",
    "initialize_training_session(weights_matrix=weights_matrix)\n",
    "batch_size = 50\n",
    "for i in range(int(len(training_set)/batch_size)):\n",
    "    Q.enqueue(train_via_random_local_search,\n",
    "              action_ids=training_set[i*batch_size:(i+1)*batch_size],\n",
    "              gamma=0.001)\n",
    "counts, f_1_scores, \\\n",
    "    accuracies, \\\n",
    "    loss_values = prepare_plot_vectors(features, \n",
    "                                       outcomes, \n",
    "                                       length=int(len(training_set)/batch_size))    "
   ]
  }
 ],
 "metadata": {
  "kernelspec": {
   "display_name": "Python 3",
   "language": "python",
   "name": "python3"
  },
  "language_info": {
   "codemirror_mode": {
    "name": "ipython",
    "version": 3
   },
   "file_extension": ".py",
   "mimetype": "text/x-python",
   "name": "python",
   "nbconvert_exporter": "python",
   "pygments_lexer": "ipython3",
   "version": "3.5.2"
  }
 },
 "nbformat": 4,
 "nbformat_minor": 0
}
