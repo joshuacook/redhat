{
 "cells": [
  {
   "cell_type": "code",
   "execution_count": 13,
   "metadata": {
    "collapsed": true
   },
   "outputs": [],
   "source": [
    "from redis import StrictRedis\n",
    "REDIS = StrictRedis(host=environ['REDIS_PORT_6379_TCP_ADDR'])"
   ]
  },
  {
   "cell_type": "code",
   "execution_count": 16,
   "metadata": {
    "collapsed": false
   },
   "outputs": [
    {
     "name": "stdout",
     "output_type": "stream",
     "text": [
      "189118 2695978\n"
     ]
    }
   ],
   "source": [
    "print(int(REDIS.get(\"string:count_people\")),\n",
    "      int(REDIS.get(\"string:count_action\")))"
   ]
  },
  {
   "cell_type": "code",
   "execution_count": 12,
   "metadata": {
    "collapsed": false
   },
   "outputs": [
    {
     "data": {
      "text/plain": [
       "environ({'REDIS_1_PORT_6379_TCP_PROTO': 'tcp', 'REDIS_PORT': 'tcp://172.17.0.4:6379', 'PWD': '/home/jovyan/work', 'REDIS_ENV_REDIS_DOWNLOAD_SHA1': '92d6d93ef2efc91e595c8bf578bf72baff397507', 'REDHAT_REDIS_1_PORT_6379_TCP_ADDR': '172.17.0.4', 'REDIS_PORT_6379_TCP_ADDR': '172.17.0.4', 'POSTGRES_1_PORT': 'tcp://172.17.0.5:5432', 'REDIS_ENV_REDIS_DOWNLOAD_URL': 'http://download.redis.io/releases/redis-3.2.3.tar.gz', 'LC_ALL': 'en_US.UTF-8', 'POSTGRES_1_NAME': '/redhat_jupyter_1/postgres_1', 'REDHAT_POSTGRES_1_PORT': 'tcp://172.17.0.5:5432', 'REDIS_1_PORT_6379_TCP_PORT': '6379', 'POSTGRES_1_ENV_PGDATA': '/var/lib/postgresql/data', 'REDHAT_POSTGRES_1_ENV_GOSU_VERSION': '1.7', 'REDHAT_POSTGRES_1_ENV_PG_MAJOR': '9.5', 'REDIS_ENV_no_proxy': '*.local, 169.254/16', 'PAGER': 'cat', 'GIT_PAGER': 'cat', 'REDHAT_POSTGRES_1_PORT_5432_TCP': 'tcp://172.17.0.5:5432', 'REDHAT_POSTGRES_1_ENV_no_proxy': '*.local, 169.254/16', 'REDHAT_REDIS_1_PORT_6379_TCP_PORT': '6379', 'REDIS_1_ENV_REDIS_DOWNLOAD_URL': 'http://download.redis.io/releases/redis-3.2.3.tar.gz', 'POSTGRES_ENV_PG_MAJOR': '9.5', 'POSTGRES_PORT_5432_TCP_PORT': '5432', 'POSTGRES_1_PORT_5432_TCP': 'tcp://172.17.0.5:5432', 'REDIS_ENV_REDIS_VERSION': '3.2.3', 'SHELL': '/bin/bash', 'REDIS_1_NAME': '/redhat_jupyter_1/redis_1', 'POSTGRES_1_ENV_PG_MAJOR': '9.5', 'POSTGRES_1_ENV_no_proxy': '*.local, 169.254/16', 'REDHAT_REDIS_1_PORT_6379_TCP': 'tcp://172.17.0.4:6379', 'REDIS_PORT_6379_TCP_PROTO': 'tcp', 'MESOS_NATIVE_LIBRARY': '/usr/local/lib/libmesos.so', 'REDIS_ENV_GOSU_VERSION': '1.7', 'REDHAT_REDIS_1_ENV_REDIS_DOWNLOAD_SHA1': '92d6d93ef2efc91e595c8bf578bf72baff397507', 'DEBIAN_FRONTEND': 'noninteractive', 'REDHAT_POSTGRES_1_PORT_5432_TCP_PROTO': 'tcp', 'POSTGRES_1_PORT_5432_TCP_PORT': '5432', 'REDIS_NAME': '/redhat_jupyter_1/redis', 'POSTGRES_ENV_LANG': 'en_US.utf8', 'LANGUAGE': 'en_US.UTF-8', 'REDIS_1_ENV_REDIS_DOWNLOAD_SHA1': '92d6d93ef2efc91e595c8bf578bf72baff397507', 'NB_UID': '1000', 'POSTGRES_1_PORT_5432_TCP_ADDR': '172.17.0.5', 'REDHAT_REDIS_1_PORT': 'tcp://172.17.0.4:6379', 'REDHAT_POSTGRES_1_ENV_PGDATA': '/var/lib/postgresql/data', 'POSTGRES_1_ENV_LANG': 'en_US.utf8', 'REDHAT_REDIS_1_ENV_REDIS_DOWNLOAD_URL': 'http://download.redis.io/releases/redis-3.2.3.tar.gz', 'REDIS_PORT_6379_TCP': 'tcp://172.17.0.4:6379', 'REDHAT_POSTGRES_1_PORT_5432_TCP_PORT': '5432', 'REDIS_1_PORT_6379_TCP': 'tcp://172.17.0.4:6379', 'R_LIBS_USER': '/usr/local/spark/R/lib', 'SHLVL': '0', 'POSTGRES_ENV_PGDATA': '/var/lib/postgresql/data', 'REDHAT_POSTGRES_1_ENV_LANG': 'en_US.utf8', 'REDHAT_REDIS_1_ENV_no_proxy': '*.local, 169.254/16', 'APACHE_SPARK_VERSION': '1.6.1', 'LANG': 'en_US.UTF-8', 'REDHAT_REDIS_1_ENV_REDIS_VERSION': '3.2.3', 'REDHAT_POSTGRES_1_ENV_PG_VERSION': '9.5.4-1.pgdg80+1', 'PATH': '/opt/conda/bin:/usr/local/sbin:/usr/local/bin:/usr/sbin:/usr/bin:/sbin:/bin', 'no_proxy': '*.local, 169.254/16', 'REDIS_1_ENV_GOSU_VERSION': '1.7', 'PYTHONPATH': '/usr/local/spark/python:/usr/local/spark/python/lib/py4j-0.9-src.zip', 'REDIS_1_ENV_REDIS_VERSION': '3.2.3', 'REDIS_1_ENV_no_proxy': '*.local, 169.254/16', 'REDHAT_REDIS_1_ENV_GOSU_VERSION': '1.7', 'JPY_PARENT_PID': '7', 'SPARK_HOME': '/usr/local/spark', 'POSTGRES_PORT': 'tcp://172.17.0.5:5432', 'SPARK_OPTS': '--driver-java-options=-Xms1024M --driver-java-options=-Xmx4096M --driver-java-options=-Dlog4j.logLevel=info', 'POSTGRES_PORT_5432_TCP_PROTO': 'tcp', 'POSTGRES_PORT_5432_TCP': 'tcp://172.17.0.5:5432', 'REDIS_PORT_6379_TCP_PORT': '6379', 'REDHAT_POSTGRES_1_NAME': '/redhat_jupyter_1/redhat_postgres_1', 'NB_USER': 'jovyan', 'POSTGRES_1_ENV_PG_VERSION': '9.5.4-1.pgdg80+1', 'CLICOLOR': '1', 'REDHAT_REDIS_1_NAME': '/redhat_jupyter_1/redhat_redis_1', 'POSTGRES_ENV_no_proxy': '*.local, 169.254/16', 'POSTGRES_1_PORT_5432_TCP_PROTO': 'tcp', 'POSTGRES_1_ENV_GOSU_VERSION': '1.7', 'TERM': 'xterm-color', 'POSTGRES_NAME': '/redhat_jupyter_1/postgres', 'POSTGRES_ENV_PG_VERSION': '9.5.4-1.pgdg80+1', 'HOSTNAME': 'f19f97180072', 'REDIS_1_PORT': 'tcp://172.17.0.4:6379', 'HOME': '/home/jovyan', 'REDHAT_POSTGRES_1_PORT_5432_TCP_ADDR': '172.17.0.5', 'REDHAT_REDIS_1_PORT_6379_TCP_PROTO': 'tcp', 'POSTGRES_PORT_5432_TCP_ADDR': '172.17.0.5', 'REDIS_1_PORT_6379_TCP_ADDR': '172.17.0.4', 'CONDA_DIR': '/opt/conda', 'POSTGRES_ENV_GOSU_VERSION': '1.7'})"
      ]
     },
     "execution_count": 12,
     "metadata": {},
     "output_type": "execute_result"
    }
   ],
   "source": [
    "from os import environ\n",
    "environ\n"
   ]
  },
  {
   "cell_type": "code",
   "execution_count": 6,
   "metadata": {
    "collapsed": false
   },
   "outputs": [
    {
     "data": {
      "text/plain": [
       "True"
      ]
     },
     "execution_count": 6,
     "metadata": {},
     "output_type": "execute_result"
    }
   ],
   "source": [
    "client = redis.StrictRedis(host=environ['REDIS_PORT_6379_TCP_ADDR'])\n",
    "client.set(\"string:my_key\", \"Hello World\")"
   ]
  },
  {
   "cell_type": "code",
   "execution_count": 7,
   "metadata": {
    "collapsed": false
   },
   "outputs": [
    {
     "data": {
      "text/plain": [
       "b'Hello World'"
      ]
     },
     "execution_count": 7,
     "metadata": {},
     "output_type": "execute_result"
    }
   ],
   "source": [
    "client.get(\"string:my_key\")"
   ]
  },
  {
   "cell_type": "code",
   "execution_count": 8,
   "metadata": {
    "collapsed": false
   },
   "outputs": [
    {
     "data": {
      "text/plain": [
       "1"
      ]
     },
     "execution_count": 8,
     "metadata": {},
     "output_type": "execute_result"
    }
   ],
   "source": [
    "client.incr(\"string:counter\")"
   ]
  },
  {
   "cell_type": "code",
   "execution_count": 9,
   "metadata": {
    "collapsed": false
   },
   "outputs": [
    {
     "data": {
      "text/plain": [
       "[b'Hello World', b'1']"
      ]
     },
     "execution_count": 9,
     "metadata": {},
     "output_type": "execute_result"
    }
   ],
   "source": [
    "client.mget([\"string:my_key\", \"string:counter\"])"
   ]
  },
  {
   "cell_type": "code",
   "execution_count": 10,
   "metadata": {
    "collapsed": false
   },
   "outputs": [
    {
     "data": {
      "text/plain": [
       "2"
      ]
     },
     "execution_count": 10,
     "metadata": {},
     "output_type": "execute_result"
    }
   ],
   "source": [
    "client.rpush(\"list:my_list\", \"item1\", \"item2\")"
   ]
  },
  {
   "cell_type": "code",
   "execution_count": 11,
   "metadata": {
    "collapsed": false
   },
   "outputs": [
    {
     "data": {
      "text/plain": [
       "b'item1'"
      ]
     },
     "execution_count": 11,
     "metadata": {},
     "output_type": "execute_result"
    }
   ],
   "source": [
    "client.lpop(\"list:my_list\")"
   ]
  },
  {
   "cell_type": "code",
   "execution_count": null,
   "metadata": {
    "collapsed": true
   },
   "outputs": [],
   "source": []
  }
 ],
 "metadata": {
  "kernelspec": {
   "display_name": "Python 3",
   "language": "python",
   "name": "python3"
  },
  "language_info": {
   "codemirror_mode": {
    "name": "ipython",
    "version": 3
   },
   "file_extension": ".py",
   "mimetype": "text/x-python",
   "name": "python",
   "nbconvert_exporter": "python",
   "pygments_lexer": "ipython3",
   "version": "3.5.2"
  }
 },
 "nbformat": 4,
 "nbformat_minor": 0
}
