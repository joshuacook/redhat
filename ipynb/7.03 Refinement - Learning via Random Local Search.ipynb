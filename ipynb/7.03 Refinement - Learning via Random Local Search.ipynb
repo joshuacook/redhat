{
 "cells": [
  {
   "cell_type": "code",
   "execution_count": 1,
   "metadata": {
    "collapsed": false
   },
   "outputs": [],
   "source": [
    "from os import chdir; chdir('../')\n",
    "from lib.app import Q\n",
    "from lib.helpers.database_helper import pull_actions\n",
    "from lib.helpers.database_helper import pull_and_shape_batch\n",
    "from lib.helpers.database_helper import pull_training_and_test_sets\n",
    "from lib.helpers.pipeline_helper import initialize_training_session\n",
    "from lib.helpers.pipeline_helper import prepare_plot_of_loss_function\n",
    "from lib.helpers.pipeline_helper import train_via_random_local_search\n",
    "from lib.helpers.redis_helper import get_best_loss, get_weights_matrix, set_best_loss, set_weights_matrix\n",
    "from lib.helpers.redis_helper import get_training_count, init_training_count\n",
    "from lib.nn.functions import measure_accuracy, predict, random_matrix\n",
    "from numpy import mean"
   ]
  },
  {
   "cell_type": "code",
   "execution_count": 2,
   "metadata": {
    "collapsed": false
   },
   "outputs": [],
   "source": [
    "training_set, test_set = pull_training_and_test_sets()"
   ]
  },
  {
   "cell_type": "markdown",
   "metadata": {},
   "source": [
    "## Random Local Search"
   ]
  },
  {
   "cell_type": "code",
   "execution_count": 3,
   "metadata": {
    "collapsed": false
   },
   "outputs": [
    {
     "data": {
      "image/png": "[encoded data removed]",
      "text/plain": [
       "<matplotlib.figure.Figure at 0x7f8a645e8588>"
      ]
     },
     "metadata": {},
     "output_type": "display_data"
    }
   ],
   "source": [
    "initialize_training_session()\n",
    "\n",
    "for i in range(int(len(training_set)/100)):\n",
    "    Q.enqueue(train_via_random_local_search,\n",
    "              action_ids=training_set[i*100:(i+1)*100],\n",
    "              gamma=0.001)\n",
    "\n",
    "training_counts, loss_values = prepare_plot_of_loss_function()    "
   ]
  },
  {
   "cell_type": "code",
   "execution_count": 4,
   "metadata": {
    "collapsed": false
   },
   "outputs": [
    {
     "data": {
      "text/plain": [
       "0.64000000000000001"
      ]
     },
     "execution_count": 4,
     "metadata": {},
     "output_type": "execute_result"
    }
   ],
   "source": [
    "weights_matrix = get_weights_matrix()\n",
    "features, outcomes = pull_and_shape_batch(action_ids=test_set[:100])\n",
    "measure_accuracy(weights_matrix, features, outcomes)"
   ]
  }
 ],
 "metadata": {
  "kernelspec": {
   "display_name": "Python 3",
   "language": "python",
   "name": "python3"
  },
  "language_info": {
   "codemirror_mode": {
    "name": "ipython",
    "version": 3
   },
   "file_extension": ".py",
   "mimetype": "text/x-python",
   "name": "python",
   "nbconvert_exporter": "python",
   "pygments_lexer": "ipython3",
   "version": "3.5.2"
  }
 },
 "nbformat": 4,
 "nbformat_minor": 0
}
