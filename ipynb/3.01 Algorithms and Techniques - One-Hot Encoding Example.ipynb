{
 "cells": [
  {
   "cell_type": "code",
   "execution_count": 1,
   "metadata": {
    "collapsed": false
   },
   "outputs": [],
   "source": [
    "from numpy import array\n",
    "from os import chdir; chdir('../')\n",
    "from lib.helpers.database_helper import connect_to_postgres\n",
    "conn, cur = connect_to_postgres()"
   ]
  },
  {
   "cell_type": "code",
   "execution_count": 2,
   "metadata": {
    "collapsed": true
   },
   "outputs": [],
   "source": [
    "col_1 = 'ppl_char_1' # e.g. ppl_char_1, ..., ppl_char_39\n",
    "col_2 = 'ppl_char_2' "
   ]
  },
  {
   "cell_type": "code",
   "execution_count": 3,
   "metadata": {
    "collapsed": false,
    "scrolled": false
   },
   "outputs": [],
   "source": [
    "cur.execute(\"SELECT {}, {} FROM people LIMIT 10\".format(col_1, col_2))\n",
    "this_row = cur.fetchone()\n",
    "attr_1 = [this_row[0]]\n",
    "attr_2 = [this_row[1]]\n",
    "while this_row:\n",
    "    attr_1.append(this_row[0])\n",
    "    attr_2.append(this_row[1])\n",
    "    this_row = cur.fetchone()"
   ]
  },
  {
   "cell_type": "code",
   "execution_count": 4,
   "metadata": {
    "collapsed": false
   },
   "outputs": [
    {
     "name": "stdout",
     "output_type": "stream",
     "text": [
      "[[1 0 1]\n",
      " [1 0 1]\n",
      " [1 1 0]\n",
      " [1 1 0]\n",
      " [1 1 0]\n",
      " [1 1 0]\n",
      " [1 1 0]\n",
      " [1 0 1]\n",
      " [1 1 0]\n",
      " [1 1 0]\n",
      " [1 1 0]]\n"
     ]
    }
   ],
   "source": [
    "one_hot = []\n",
    "for this_at_1, this_at_2 in zip(attr_1, attr_2):\n",
    "    one_hot_at_1 = [this_at_1 == set_at_1 for set_at_1 in set(attr_1)]\n",
    "    one_hot_at_2 = [this_at_2 == set_at_2 for set_at_2 in set(attr_2)]\n",
    "    this_one_hot = one_hot_at_1 + one_hot_at_2\n",
    "    one_hot.append(this_one_hot)\n",
    "print(array(one_hot, dtype=int))"
   ]
  }
 ],
 "metadata": {
  "kernelspec": {
   "display_name": "Python 3",
   "language": "python",
   "name": "python3"
  },
  "language_info": {
   "codemirror_mode": {
    "name": "ipython",
    "version": 3
   },
   "file_extension": ".py",
   "mimetype": "text/x-python",
   "name": "python",
   "nbconvert_exporter": "python",
   "pygments_lexer": "ipython3",
   "version": "3.5.2"
  }
 },
 "nbformat": 4,
 "nbformat_minor": 0
}
