{
 "cells": [
  {
   "cell_type": "code",
   "execution_count": 1,
   "metadata": {
    "collapsed": false
   },
   "outputs": [],
   "source": [
    "import numpy as np\n",
    "from os import chdir; chdir('../')\n",
    "from lib.helpers.database_helper import connect_to_postgres\n",
    "conn, cur = connect_to_postgres()"
   ]
  },
  {
   "cell_type": "code",
   "execution_count": 2,
   "metadata": {
    "collapsed": false,
    "scrolled": false
   },
   "outputs": [
    {
     "name": "stdout",
     "output_type": "stream",
     "text": [
      "('type 02', 'type 02')\n",
      "[[0 1 0 1 0]\n",
      " [0 1 0 0 1]\n",
      " [0 1 0 0 1]\n",
      " [0 1 0 0 1]\n",
      " [0 1 0 0 1]\n",
      " [0 1 0 0 1]\n",
      " [0 1 0 1 0]\n",
      " [0 1 0 0 1]\n",
      " [0 1 0 0 1]\n",
      " [0 1 0 0 1]]\n"
     ]
    }
   ],
   "source": [
    "cur.execute(\"SELECT ppl_char_1,ppl_char_2 FROM people LIMIT 10\")\n",
    "this_row = cur.fetchone()\n",
    "print(this_row)\n",
    "one_hot = []\n",
    "while this_row:\n",
    "    one_hot.append([\n",
    "            this_row[0] == 'type 01',\n",
    "            this_row[0] == 'type 02',\n",
    "            this_row[1] == 'type 01',\n",
    "            this_row[1] == 'type 02',\n",
    "            this_row[1] == 'type 03',\n",
    "        ])\n",
    "    this_row = cur.fetchone()\n",
    "print(np.array(one_hot, dtype=int))"
   ]
  }
 ],
 "metadata": {
  "kernelspec": {
   "display_name": "Python 3",
   "language": "python",
   "name": "python3"
  },
  "language_info": {
   "codemirror_mode": {
    "name": "ipython",
    "version": 3
   },
   "file_extension": ".py",
   "mimetype": "text/x-python",
   "name": "python",
   "nbconvert_exporter": "python",
   "pygments_lexer": "ipython3",
   "version": "3.5.2"
  }
 },
 "nbformat": 4,
 "nbformat_minor": 0
}
