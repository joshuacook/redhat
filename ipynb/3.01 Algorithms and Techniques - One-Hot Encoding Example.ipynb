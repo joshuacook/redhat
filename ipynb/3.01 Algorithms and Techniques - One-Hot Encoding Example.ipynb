{
 "cells": [
  {
   "cell_type": "code",
   "execution_count": 2,
   "metadata": {
    "collapsed": false
   },
   "outputs": [],
   "source": [
    "import psycopg2\n",
    "import numpy as np\n",
    "from os import environ\n",
    "conn = psycopg2.connect(dbname='postgres', user='postgres', host=environ['POSTGRES_1_PORT_5432_TCP_ADDR'])\n",
    "cur = conn.cursor()"
   ]
  },
  {
   "cell_type": "code",
   "execution_count": 3,
   "metadata": {
    "collapsed": false,
    "scrolled": false
   },
   "outputs": [
    {
     "name": "stdout",
     "output_type": "stream",
     "text": [
      "('type 02', 'type 02')\n",
      "[[0 1 0 1 0]\n",
      " [0 1 0 0 1]\n",
      " [0 1 0 0 1]\n",
      " [0 1 0 0 1]\n",
      " [0 1 0 0 1]\n",
      " [0 1 0 0 1]\n",
      " [0 1 0 1 0]\n",
      " [0 1 0 0 1]\n",
      " [0 1 0 0 1]\n",
      " [0 1 0 0 1]]\n"
     ]
    }
   ],
   "source": [
    "cur.execute(\"SELECT ppl_char_1,ppl_char_2 FROM people LIMIT 10\")\n",
    "this_row = cur.fetchone()\n",
    "print(this_row)\n",
    "one_hot = []\n",
    "while this_row:\n",
    "    one_hot.append([\n",
    "            this_row[0] == 'type 01',\n",
    "            this_row[0] == 'type 02',\n",
    "            this_row[1] == 'type 01',\n",
    "            this_row[1] == 'type 02',\n",
    "            this_row[1] == 'type 03',\n",
    "        ])\n",
    "    this_row = cur.fetchone()\n",
    "print(np.array(one_hot, dtype=int))"
   ]
  },
  {
   "cell_type": "code",
   "execution_count": 4,
   "metadata": {
    "collapsed": true
   },
   "outputs": [],
   "source": [
    "eye_3 = np.eye(3)"
   ]
  },
  {
   "cell_type": "code",
   "execution_count": 20,
   "metadata": {
    "collapsed": false
   },
   "outputs": [],
   "source": [
    "conn = psycopg2.connect(dbname='postgres', user='postgres', host=environ['POSTGRES_1_PORT_5432_TCP_ADDR'])\n",
    "cur = conn.cursor()\n",
    "cur.execute(\"SELECT act_id FROM action LIMIT 1\")\n",
    "action_id = cur.fetchone()[0]\n",
    "sql = \"\"\"\n",
    "UPDATE action \n",
    "SET act_one_hot_encoding = {}\n",
    "WHERE act_id='{}'\n",
    "\"\"\".format(psycopg2.Binary(eye_3), action_id)\n",
    "cur.execute(sql)\n",
    "conn.commit()"
   ]
  },
  {
   "cell_type": "code",
   "execution_count": 25,
   "metadata": {
    "collapsed": true
   },
   "outputs": [],
   "source": [
    "cur.execute(\"\"\"\n",
    "SELECT act_one_hot_encoding \n",
    "FROM action \n",
    "WHERE act_id='{}'\n",
    "\"\"\".format(action_id))\n",
    "buf = cur.fetchone()[0]\n",
    "np.frombuffer(buf)"
   ]
  },
  {
   "cell_type": "code",
   "execution_count": 27,
   "metadata": {
    "collapsed": false
   },
   "outputs": [
    {
     "data": {
      "text/plain": [
       "array([ 1.,  0.,  0.,  0.,  1.,  0.,  0.,  0.,  1.])"
      ]
     },
     "execution_count": 27,
     "metadata": {},
     "output_type": "execute_result"
    }
   ],
   "source": []
  },
  {
   "cell_type": "code",
   "execution_count": null,
   "metadata": {
    "collapsed": true
   },
   "outputs": [],
   "source": []
  }
 ],
 "metadata": {
  "kernelspec": {
   "display_name": "Python 3",
   "language": "python",
   "name": "python3"
  },
  "language_info": {
   "codemirror_mode": {
    "name": "ipython",
    "version": 3
   },
   "file_extension": ".py",
   "mimetype": "text/x-python",
   "name": "python",
   "nbconvert_exporter": "python",
   "pygments_lexer": "ipython3",
   "version": "3.5.2"
  }
 },
 "nbformat": 4,
 "nbformat_minor": 0
}
