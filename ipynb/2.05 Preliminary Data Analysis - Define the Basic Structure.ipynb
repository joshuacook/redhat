{
 "cells": [
  {
   "cell_type": "code",
   "execution_count": 1,
   "metadata": {
    "collapsed": false
   },
   "outputs": [],
   "source": [
    "import psycopg2\n",
    "from os import environ\n",
    "conn = psycopg2.connect(dbname='postgres', user='postgres', host=environ['POSTGRES_1_PORT_5432_TCP_ADDR'])\n",
    "cur = conn.cursor()"
   ]
  },
  {
   "cell_type": "code",
   "execution_count": 2,
   "metadata": {
    "collapsed": false
   },
   "outputs": [
    {
     "data": {
      "text/plain": [
       "(189118,)"
      ]
     },
     "execution_count": 2,
     "metadata": {},
     "output_type": "execute_result"
    }
   ],
   "source": [
    "sql = \"\"\"\n",
    "SELECT count(*) FROM people;\n",
    "\"\"\"\n",
    "cur.execute(sql)\n",
    "cur.fetchall()[0]"
   ]
  },
  {
   "cell_type": "code",
   "execution_count": 3,
   "metadata": {
    "collapsed": false
   },
   "outputs": [
    {
     "data": {
      "text/plain": [
       "(498687,)"
      ]
     },
     "execution_count": 3,
     "metadata": {},
     "output_type": "execute_result"
    }
   ],
   "source": [
    "sql = \"\"\"\n",
    "SELECT count(*) FROM action\n",
    "WHERE act_outcome is NULL;\n",
    "\"\"\"\n",
    "cur.execute(sql)\n",
    "cur.fetchall()[0]"
   ]
  },
  {
   "cell_type": "code",
   "execution_count": 4,
   "metadata": {
    "collapsed": false
   },
   "outputs": [
    {
     "data": {
      "text/plain": [
       "(2197291,)"
      ]
     },
     "execution_count": 4,
     "metadata": {},
     "output_type": "execute_result"
    }
   ],
   "source": [
    "sql = \"\"\"\n",
    "SELECT count(*) FROM action\n",
    "WHERE act_outcome is NOT NULL;\n",
    "\"\"\"\n",
    "cur.execute(sql)\n",
    "cur.fetchall()[0]"
   ]
  },
  {
   "cell_type": "code",
   "execution_count": 5,
   "metadata": {
    "collapsed": false
   },
   "outputs": [
    {
     "data": {
      "text/plain": [
       "[('(13)', '(1)', '(1)')]"
      ]
     },
     "execution_count": 5,
     "metadata": {},
     "output_type": "execute_result"
    }
   ],
   "source": [
    "sql = \"\"\"\n",
    "SELECT text,boolean,timestamp FROM\n",
    "    (SELECT COUNT(data_type)\n",
    "        FROM INFORMATION_SCHEMA.COLUMNS\n",
    "        WHERE table_name = 'action' \n",
    "        AND data_type='text') as text,\n",
    "    (SELECT COUNT(data_type)\n",
    "        FROM INFORMATION_SCHEMA.COLUMNS\n",
    "        WHERE table_name = 'action' \n",
    "        AND data_type='boolean') as boolean,\n",
    "    (SELECT COUNT(data_type)\n",
    "        FROM INFORMATION_SCHEMA.COLUMNS\n",
    "        WHERE table_name = 'action' \n",
    "        AND data_type='timestamp without time zone') as timestamp;\n",
    "\"\"\"\n",
    "cur.execute(sql)\n",
    "cur.fetchall()"
   ]
  },
  {
   "cell_type": "code",
   "execution_count": 6,
   "metadata": {
    "collapsed": false
   },
   "outputs": [
    {
     "data": {
      "text/plain": [
       "[('(11)', '(28)', '(1)', '(1)')]"
      ]
     },
     "execution_count": 6,
     "metadata": {},
     "output_type": "execute_result"
    }
   ],
   "source": [
    "sql = \"\"\"\n",
    "SELECT text,boolean,timestamp,real FROM \n",
    "    (SELECT COUNT(data_type) \n",
    "        FROM INFORMATION_SCHEMA.COLUMNS \n",
    "        WHERE table_name = 'people' \n",
    "        AND data_type='text') as text,\n",
    "    (SELECT COUNT(data_type) \n",
    "        FROM INFORMATION_SCHEMA.COLUMNS \n",
    "        WHERE table_name = 'people' \n",
    "        AND data_type='boolean') as boolean,\n",
    "    (SELECT COUNT(data_type) \n",
    "        FROM INFORMATION_SCHEMA.COLUMNS \n",
    "        WHERE table_name = 'people' \n",
    "        AND data_type='timestamp without time zone') as timestamp,\n",
    "    (SELECT COUNT(data_type) \n",
    "        FROM INFORMATION_SCHEMA.COLUMNS \n",
    "        WHERE table_name = 'people' \n",
    "        AND data_type='real') as real;\n",
    "\"\"\"\n",
    "cur.execute(sql)\n",
    "cur.fetchall()"
   ]
  },
  {
   "cell_type": "code",
   "execution_count": 7,
   "metadata": {
    "collapsed": false
   },
   "outputs": [
    {
     "data": {
      "text/plain": [
       "[('(189118)', '(34224)', '(1196)')]"
      ]
     },
     "execution_count": 7,
     "metadata": {},
     "output_type": "execute_result"
    }
   ],
   "source": [
    "sql = \"\"\"\n",
    "SELECT people_id, ppl_group_1, ppl_date\n",
    "    FROM\n",
    "    (SELECT COUNT(DISTINCT people_id) FROM people) AS people_id,\n",
    "    (SELECT COUNT(DISTINCT ppl_group_1) FROM people) AS ppl_group_1,\n",
    "    (SELECT COUNT(DISTINCT ppl_date) FROM people) AS ppl_date;\n",
    "\"\"\"\n",
    "cur.execute(sql)\n",
    "cur.fetchall()"
   ]
  },
  {
   "cell_type": "code",
   "execution_count": null,
   "metadata": {
    "collapsed": false
   },
   "outputs": [
    {
     "data": {
      "text/plain": [
       "[('(2)', '(3)', '(43)', '(25)', '(9)', '(7)', '(25)', '(8)', '(9)')]"
      ]
     },
     "execution_count": 8,
     "metadata": {},
     "output_type": "execute_result"
    }
   ],
   "source": [
    "sql = \"\"\"\n",
    "SELECT p1,p2,p3,p4,p5,p6,p7,p8,p9\n",
    "  FROM\n",
    "    (SELECT COUNT(DISTINCT ppl_char_1) FROM people) AS p1,\n",
    "    (SELECT COUNT(DISTINCT ppl_char_2) FROM people) AS p2,\n",
    "    (SELECT COUNT(DISTINCT ppl_char_3) FROM people) AS p3,\n",
    "    (SELECT COUNT(DISTINCT ppl_char_4) FROM people) AS p4,\n",
    "    (SELECT COUNT(DISTINCT ppl_char_5) FROM people) AS p5,\n",
    "    (SELECT COUNT(DISTINCT ppl_char_6) FROM people) AS p6,\n",
    "    (SELECT COUNT(DISTINCT ppl_char_7) FROM people) AS p7,\n",
    "    (SELECT COUNT(DISTINCT ppl_char_8) FROM people) AS p8,\n",
    "    (SELECT COUNT(DISTINCT ppl_char_9) FROM people) AS p9;\n",
    "\"\"\"\n",
    "cur.execute(sql)\n",
    "cur.fetchall()"
   ]
  },
  {
   "cell_type": "code",
   "execution_count": null,
   "metadata": {
    "collapsed": false
   },
   "outputs": [
    {
     "data": {
      "text/plain": [
       "[('(2695978)', '(411)', '(7)')]"
      ]
     },
     "execution_count": 9,
     "metadata": {},
     "output_type": "execute_result"
    }
   ],
   "source": [
    "sql = \"\"\"\n",
    "SELECT act_id, act_date, act_category\n",
    "    FROM\n",
    "    (SELECT COUNT(DISTINCT act_id) FROM action) AS act_id,\n",
    "    (SELECT COUNT(DISTINCT act_date) FROM action) AS act_date,\n",
    "    (SELECT COUNT(DISTINCT act_category) FROM action) AS act_category;\n",
    "\"\"\"\n",
    "cur.execute(sql)\n",
    "cur.fetchall()"
   ]
  },
  {
   "cell_type": "code",
   "execution_count": null,
   "metadata": {
    "collapsed": false
   },
   "outputs": [
    {
     "data": {
      "text/plain": [
       "[('(51)',\n",
       "  '(32)',\n",
       "  '(11)',\n",
       "  '(7)',\n",
       "  '(7)',\n",
       "  '(5)',\n",
       "  '(8)',\n",
       "  '(18)',\n",
       "  '(19)',\n",
       "  '(6969)')]"
      ]
     },
     "execution_count": 10,
     "metadata": {},
     "output_type": "execute_result"
    }
   ],
   "source": [
    "sql = \"\"\"\n",
    "SELECT a1,a2,a3,a4,a5,a6,a7,a8,a9,a10\n",
    "    FROM \n",
    "    (SELECT COUNT(DISTINCT act_char_1) FROM action) AS a1,\n",
    "    (SELECT COUNT(DISTINCT act_char_2) FROM action) AS a2,\n",
    "    (SELECT COUNT(DISTINCT act_char_3) FROM action) AS a3,\n",
    "    (SELECT COUNT(DISTINCT act_char_4) FROM action) AS a4,\n",
    "    (SELECT COUNT(DISTINCT act_char_5) FROM action) AS a5,\n",
    "    (SELECT COUNT(DISTINCT act_char_6) FROM action) AS a6,\n",
    "    (SELECT COUNT(DISTINCT act_char_7) FROM action) AS a7,\n",
    "    (SELECT COUNT(DISTINCT act_char_8) FROM action) AS a8,\n",
    "    (SELECT COUNT(DISTINCT act_char_9) FROM action) AS a9,\n",
    "    (SELECT COUNT(DISTINCT act_char_10) FROM action) AS a10\n",
    "\"\"\"\n",
    "cur.execute(sql)\n",
    "cur.fetchall()"
   ]
  },
  {
   "cell_type": "code",
   "execution_count": null,
   "metadata": {
    "collapsed": true
   },
   "outputs": [
    {
     "data": {
      "text/plain": [
       "[('(0.2509)', '(0.2155)', '(0.2403)', '(0.3651)', '(0.2598)')]"
      ]
     },
     "execution_count": 11,
     "metadata": {},
     "output_type": "execute_result"
    }
   ],
   "source": [
    "sql = \"\"\"\n",
    "SELECT p10,p11,p12,p13,p14\n",
    "    FROM\n",
    "    (SELECT ROUND(AVG(ppl_char_10::int), 4) FROM people) AS p10,\n",
    "    (SELECT ROUND(AVG(ppl_char_11::int), 4) FROM people) AS p11,\n",
    "    (SELECT ROUND(AVG(ppl_char_12::int), 4) FROM people) AS p12,\n",
    "    (SELECT ROUND(AVG(ppl_char_13::int), 4) FROM people) AS p13,\n",
    "    (SELECT ROUND(AVG(ppl_char_14::int), 4) FROM people) AS p14;\n",
    "\"\"\"\n",
    "cur.execute(sql)\n",
    "cur.fetchall()"
   ]
  },
  {
   "cell_type": "code",
   "execution_count": null,
   "metadata": {
    "collapsed": true
   },
   "outputs": [
    {
     "data": {
      "text/plain": [
       "[('(0.2695)', '(0.2821)', '(0.2920)', '(0.1876)', '(0.2847)')]"
      ]
     },
     "execution_count": 12,
     "metadata": {},
     "output_type": "execute_result"
    }
   ],
   "source": [
    "sql = \"\"\"\n",
    "SELECT p15,p16,p17,p18,p19\n",
    "    FROM\n",
    "    (SELECT ROUND(AVG(ppl_char_15::int), 4) FROM people) AS p15,\n",
    "    (SELECT ROUND(AVG(ppl_char_16::int), 4) FROM people) AS p16,\n",
    "    (SELECT ROUND(AVG(ppl_char_17::int), 4) FROM people) AS p17,\n",
    "    (SELECT ROUND(AVG(ppl_char_18::int), 4) FROM people) AS p18,\n",
    "    (SELECT ROUND(AVG(ppl_char_19::int), 4) FROM people) AS p19;\n",
    "\"\"\"\n",
    "cur.execute(sql)\n",
    "cur.fetchall()"
   ]
  },
  {
   "cell_type": "code",
   "execution_count": null,
   "metadata": {
    "collapsed": true
   },
   "outputs": [],
   "source": [
    "sql = \"\"\"\n",
    "SELECT p20,p21,p22,p23,p24\n",
    "    FROM\n",
    "    (SELECT ROUND(AVG(ppl_char_20::int), 4) FROM people) AS p20,\n",
    "    (SELECT ROUND(AVG(ppl_char_21::int), 4) FROM people) AS p21,\n",
    "    (SELECT ROUND(AVG(ppl_char_22::int), 4) FROM people) AS p22,\n",
    "    (SELECT ROUND(AVG(ppl_char_23::int), 4) FROM people) AS p23,\n",
    "    (SELECT ROUND(AVG(ppl_char_24::int), 4) FROM people) AS p24;\n",
    "\"\"\"\n",
    "cur.execute(sql)\n",
    "cur.fetchall()"
   ]
  },
  {
   "cell_type": "code",
   "execution_count": null,
   "metadata": {
    "collapsed": true
   },
   "outputs": [],
   "source": [
    "sql = \"\"\"\n",
    "SELECT p25,p26,p27,p28,p29\n",
    "    FROM\n",
    "    (SELECT ROUND(AVG(ppl_char_25::int), 4) FROM people) AS p25,\n",
    "    (SELECT ROUND(AVG(ppl_char_26::int), 4) FROM people) AS p26,\n",
    "    (SELECT ROUND(AVG(ppl_char_27::int), 4) FROM people) AS p27,\n",
    "    (SELECT ROUND(AVG(ppl_char_28::int), 4) FROM people) AS p28,\n",
    "    (SELECT ROUND(AVG(ppl_char_29::int), 4) FROM people) AS p29;\n",
    "\"\"\"\n",
    "cur.execute(sql)\n",
    "cur.fetchall()"
   ]
  },
  {
   "cell_type": "code",
   "execution_count": null,
   "metadata": {
    "collapsed": true
   },
   "outputs": [],
   "source": [
    "sql = \"\"\"\n",
    "SELECT p30,p31,p32,p33,p34\n",
    "    FROM\n",
    "    (SELECT ROUND(AVG(ppl_char_30::int), 4) FROM people) AS p30,\n",
    "    (SELECT ROUND(AVG(ppl_char_31::int), 4) FROM people) AS p31,\n",
    "    (SELECT ROUND(AVG(ppl_char_32::int), 4) FROM people) AS p32,\n",
    "    (SELECT ROUND(AVG(ppl_char_33::int), 4) FROM people) AS p33,\n",
    "    (SELECT ROUND(AVG(ppl_char_34::int), 4) FROM people) AS p34;\n",
    "\"\"\"\n",
    "cur.execute(sql)\n",
    "cur.fetchall()"
   ]
  },
  {
   "cell_type": "code",
   "execution_count": null,
   "metadata": {
    "collapsed": true
   },
   "outputs": [],
   "source": [
    "sql = \"\"\"\n",
    "SELECT p35,p36,p37,ao\n",
    "    FROM\n",
    "    (SELECT ROUND(AVG(ppl_char_35::int), 4) FROM people) AS p35,\n",
    "    (SELECT ROUND(AVG(ppl_char_36::int), 4) FROM people) AS p36,\n",
    "    (SELECT ROUND(AVG(ppl_char_37::int), 4) FROM people) AS p37,\n",
    "    (SELECT ROUND(AVG(act_outcome::int), 4) FROM action) AS ao; \n",
    "\"\"\"\n",
    "cur.execute(sql)\n",
    "cur.fetchall()"
   ]
  },
  {
   "cell_type": "code",
   "execution_count": null,
   "metadata": {
    "collapsed": true
   },
   "outputs": [],
   "source": [
    "sql = \"\"\"\n",
    "SELECT AVG(ppl_char_38), MAX(ppl_char_38), MIN(ppl_char_38) FROM people;\n",
    "\"\"\"\n",
    "cur.execute(sql)\n",
    "cur.fetchall()"
   ]
  }
 ],
 "metadata": {
  "kernelspec": {
   "display_name": "Python 3",
   "language": "python",
   "name": "python3"
  },
  "language_info": {
   "codemirror_mode": {
    "name": "ipython",
    "version": 3
   },
   "file_extension": ".py",
   "mimetype": "text/x-python",
   "name": "python",
   "nbconvert_exporter": "python",
   "pygments_lexer": "ipython3",
   "version": "3.5.2"
  }
 },
 "nbformat": 4,
 "nbformat_minor": 0
}
