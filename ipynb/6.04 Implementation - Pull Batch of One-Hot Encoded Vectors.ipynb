{
 "cells": [
  {
   "cell_type": "code",
   "execution_count": 1,
   "metadata": {
    "collapsed": true
   },
   "outputs": [],
   "source": [
    "import psycopg2, time\n",
    "import numpy as np\n",
    "from os import environ, chdir; chdir('../')\n",
    "conn = psycopg2.connect(dbname='postgres', \n",
    "                        user='postgres', \n",
    "                        host=environ['REDHAT_POSTGRES_1_PORT_5432_TCP_ADDR'])\n",
    "cur = conn.cursor()"
   ]
  },
  {
   "cell_type": "code",
   "execution_count": 2,
   "metadata": {
    "collapsed": false
   },
   "outputs": [],
   "source": [
    "from lib.app import Q\n",
    "from lib.helpers.database_helper import pull_and_shape_batch\n",
    "from lib.helpers.redis_helper import read_weights_matrix_from_redis, write_weights_matrix_to_redis\n",
    "from lib.nn.functions import loss_function, scores\n"
   ]
  },
  {
   "cell_type": "markdown",
   "metadata": {},
   "source": [
    "## Random Search"
   ]
  },
  {
   "cell_type": "code",
   "execution_count": null,
   "metadata": {
    "collapsed": false
   },
   "outputs": [
    {
     "name": "stdout",
     "output_type": "stream",
     "text": [
      "in attempt  0 the loss was 4.5021 best 4.5021 took 0.9815 seconds\n",
      "in attempt  1 the loss was 4.5069 best 4.5021 took 1.0498 seconds\n",
      "in attempt  2 the loss was 4.5007 best 4.5007 took 1.1534 seconds\n",
      "in attempt  3 the loss was 4.4995 best 4.4995 took 4.7892 seconds\n",
      "in attempt  4 the loss was 4.5325 best 4.4995 took 9.9807 seconds\n",
      "in attempt  5 the loss was 4.5361 best 4.4995 took 0.9537 seconds\n",
      "in attempt  6 the loss was 4.5261 best 4.4995 took 0.9164 seconds\n",
      "in attempt  7 the loss was 4.4971 best 4.4971 took 0.9407 seconds\n",
      "in attempt  8 the loss was 4.5148 best 4.4971 took 0.9873 seconds\n",
      "in attempt  9 the loss was 4.6100 best 4.4971 took 0.9104 seconds\n"
     ]
    }
   ],
   "source": [
    "bestloss = float(\"inf\") # Python assigns the highest possible float value\n",
    "\n",
    "random_W = np.random.randn(10, 7326) * 0.0001 \n",
    "result, (l,w) = write_weights_matrix_to_redis(random_W)\n",
    "\n",
    "for num in range(25):\n",
    "    t = time.time()\n",
    "    batch_features, \\\n",
    "        batch_outcomes = pull_and_shape_batch(100,num*100)\n",
    "        \n",
    "    # generate random parameters\n",
    "    random_W = np.random.randn(10, 7326) * 0.0001 \n",
    "    \n",
    "    # get the loss over the entire training set\n",
    "    loss = loss_function(random_W, batch_features, batch_outcomes) \n",
    "    \n",
    "    if loss < bestloss: # keep track of the best solution\n",
    "        bestloss = loss\n",
    "        bestW = random_W\n",
    "        write_weights_matrix_to_redis(bestW)\n",
    "    print(\"\"\"in attempt {:2} the loss was {:.4f} best {:.4f} took {:.4f} seconds\"\"\".format(num, \n",
    "                                                                             loss, \n",
    "                                                                             bestloss, \n",
    "                                                                             time.time() - t))"
   ]
  },
  {
   "cell_type": "code",
   "execution_count": null,
   "metadata": {
    "collapsed": true
   },
   "outputs": [],
   "source": []
  }
 ],
 "metadata": {
  "kernelspec": {
   "display_name": "Python 3",
   "language": "python",
   "name": "python3"
  },
  "language_info": {
   "codemirror_mode": {
    "name": "ipython",
    "version": 3
   },
   "file_extension": ".py",
   "mimetype": "text/x-python",
   "name": "python",
   "nbconvert_exporter": "python",
   "pygments_lexer": "ipython3",
   "version": "3.5.2"
  }
 },
 "nbformat": 4,
 "nbformat_minor": 0
}
