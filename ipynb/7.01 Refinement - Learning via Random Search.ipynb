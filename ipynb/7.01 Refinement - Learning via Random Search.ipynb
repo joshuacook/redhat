{
 "cells": [
  {
   "cell_type": "code",
   "execution_count": 1,
   "metadata": {
    "collapsed": false
   },
   "outputs": [],
   "source": [
    "from os import chdir; chdir('../')\n",
    "from lib.app import Q\n",
    "from lib.helpers.database_helper import pull_actions\n",
    "from lib.helpers.database_helper import pull_and_shape_batch\n",
    "from lib.helpers.database_helper import pull_training_and_test_sets\n",
    "from lib.helpers.pipeline_helper import initialize_training_session\n",
    "from lib.helpers.pipeline_helper import prepare_plot_vectors\n",
    "from lib.helpers.pipeline_helper import train_via_random_search\n",
    "from lib.helpers.redis_helper import get_best_loss, get_weights_matrix, set_best_loss, set_weights_matrix\n",
    "from lib.helpers.redis_helper import get_training_count, init_training_count\n",
    "from lib.nn.metrics import measure_accuracy, measure_f1_score, correlation_matrix\n",
    "from lib.nn.functions import predict, random_matrix\n"
   ]
  },
  {
   "cell_type": "markdown",
   "metadata": {},
   "source": [
    "It is of note that we will be doing the training via distributed processing. As such, we can not store the `best_loss` and `weights_matrix` in memory. Instead, we store the values in Redis. We have written a few methods to handle the storage and retrie    val of these values.\n",
    "\n",
    "- `read_best_loss`\n",
    "- `read_weights_matrix`\n",
    "- `write_best_loss`\n",
    "- `write_weights_matrix`"
   ]
  },
  {
   "cell_type": "code",
   "execution_count": 2,
   "metadata": {
    "collapsed": false
   },
   "outputs": [],
   "source": [
    "training_set, test_set = pull_training_and_test_sets()"
   ]
  },
  {
   "cell_type": "code",
   "execution_count": null,
   "metadata": {
    "collapsed": true
   },
   "outputs": [],
   "source": [
    "features, outcomes = pull_and_shape_batch(action_ids=test_set)"
   ]
  },
  {
   "cell_type": "markdown",
   "metadata": {},
   "source": [
    "## Random Search"
   ]
  },
  {
   "cell_type": "code",
   "execution_count": null,
   "metadata": {
    "collapsed": false
   },
   "outputs": [],
   "source": [
    "initialize_training_session()\n",
    "\n",
    "for i in range(int(len(training_set)/100)):\n",
    "    Q.enqueue(train_via_random_search,\n",
    "              features,\n",
    "              outcomes,\n",
    "              action_ids=training_set[i*100:(i+1)*100],\n",
    "              gamma=0.001)"
   ]
  },
  {
   "cell_type": "code",
   "execution_count": null,
   "metadata": {
    "collapsed": true
   },
   "outputs": [],
   "source": [
    "plot_vectors = prepare_plot_vectors(length=750)"
   ]
  },
  {
   "cell_type": "code",
   "execution_count": 12,
   "metadata": {
    "collapsed": false
   },
   "outputs": [
    {
     "data": {
      "text/plain": [
       "([55, 63, 71],\n",
       " [0.7712693, 0.7712693, 0.7712693],\n",
       " [0.7456667, 0.7456667, 0.7456667],\n",
       " [1.9074999, 1.9074999, 1.9074999])"
      ]
     },
     "execution_count": 12,
     "metadata": {},
     "output_type": "execute_result"
    }
   ],
   "source": [
    "plot_vectors"
   ]
  },
  {
   "cell_type": "code",
   "execution_count": 4,
   "metadata": {
    "collapsed": false,
    "scrolled": true
   },
   "outputs": [
    {
     "data": {
      "text/plain": [
       "0.76213333333333333"
      ]
     },
     "execution_count": 4,
     "metadata": {},
     "output_type": "execute_result"
    }
   ],
   "source": [
    "weights_matrix = get_weights_matrix()\n",
    "features, outcomes = pull_and_shape_batch(action_ids=test_set)\n",
    "measure_accuracy(weights_matrix, features, outcomes)"
   ]
  }
 ],
 "metadata": {
  "kernelspec": {
   "display_name": "Python 3",
   "language": "python",
   "name": "python3"
  },
  "language_info": {
   "codemirror_mode": {
    "name": "ipython",
    "version": 3
   },
   "file_extension": ".py",
   "mimetype": "text/x-python",
   "name": "python",
   "nbconvert_exporter": "python",
   "pygments_lexer": "ipython3",
   "version": "3.5.2"
  }
 },
 "nbformat": 4,
 "nbformat_minor": 0
}
