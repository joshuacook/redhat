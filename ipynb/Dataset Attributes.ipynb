{
 "cells": [
  {
   "cell_type": "code",
   "execution_count": 2,
   "metadata": {
    "collapsed": false
   },
   "outputs": [],
   "source": [
    "import psycopg2\n",
    "import numpy as np\n",
    "from os import environ\n",
    "conn = psycopg2.connect(dbname='postgres', user='postgres', host=environ['POSTGRES_1_PORT_5432_TCP_ADDR'])\n",
    "cur = conn.cursor()"
   ]
  },
  {
   "cell_type": "code",
   "execution_count": 4,
   "metadata": {
    "collapsed": false
   },
   "outputs": [],
   "source": [
    "cur.execute(\"\"\"SELECT column_name, data_type, character_maximum_length \n",
    "             FROM INFORMATION_SCHEMA.COLUMNS where table_name='people'\"\"\")\n",
    "columns = cur.fetchall()\n",
    "column_names = [col[0] for col in columns]"
   ]
  },
  {
   "cell_type": "code",
   "execution_count": 5,
   "metadata": {
    "collapsed": false
   },
   "outputs": [],
   "source": [
    "action_cols = [\n",
    " ('act_category','text'),\n",
    " ('act_char_1','text'),\n",
    " ('act_char_2','text'),\n",
    " ('act_char_3','text'),\n",
    " ('act_char_4','text'),\n",
    " ('act_char_5','text'),\n",
    " ('act_char_6','text'),\n",
    " ('act_char_7','text'),\n",
    " ('act_char_8','text'),\n",
    " ('act_char_9','text'),\n",
    " ('act_char_10','text'),\n",
    " ('act_outcome','boolean')\n",
    "]"
   ]
  },
  {
   "cell_type": "code",
   "execution_count": 3,
   "metadata": {
    "collapsed": false
   },
   "outputs": [],
   "source": [
    "people_cols = [\n",
    " ('ppl_char_1','text'),\n",
    " ('ppl_char_2','text'),\n",
    " ('ppl_char_3','text'),\n",
    " ('ppl_char_4','text'),\n",
    " ('ppl_char_5','text'),\n",
    " ('ppl_char_6','text'),\n",
    " ('ppl_char_7','text'),\n",
    " ('ppl_char_8','text'),\n",
    " ('ppl_char_9','text'),\n",
    " ('ppl_char_10','boolean'),\n",
    " ('ppl_char_11','boolean'),\n",
    " ('ppl_char_12','boolean'),\n",
    " ('ppl_char_13','boolean'),\n",
    " ('ppl_char_14','boolean'),\n",
    " ('ppl_char_15','boolean'),\n",
    " ('ppl_char_16','boolean'),\n",
    " ('ppl_char_17','boolean'),\n",
    " ('ppl_char_18','boolean'),\n",
    " ('ppl_char_19','boolean'),\n",
    " ('ppl_char_20','boolean'),    \n",
    " ('ppl_char_21','boolean'),\n",
    " ('ppl_char_22','boolean'),\n",
    " ('ppl_char_23','boolean'),\n",
    " ('ppl_char_24','boolean'),\n",
    " ('ppl_char_25','boolean'),\n",
    " ('ppl_char_26','boolean'),\n",
    " ('ppl_char_27','boolean'),\n",
    " ('ppl_char_28','boolean'),\n",
    " ('ppl_char_29','boolean'),\n",
    " ('ppl_char_30','boolean'),    \n",
    " ('ppl_char_31','boolean'),\n",
    " ('ppl_char_32','boolean'),\n",
    " ('ppl_char_33','boolean'),\n",
    " ('ppl_char_34','boolean'),\n",
    " ('ppl_char_35','boolean'),\n",
    " ('ppl_char_36','boolean'),\n",
    " ('ppl_char_37','boolean'),        \n",
    " ('ppl_char_38','real')]"
   ]
  },
  {
   "cell_type": "code",
   "execution_count": 11,
   "metadata": {
    "collapsed": false,
    "scrolled": false
   },
   "outputs": [
    {
     "name": "stdout",
     "output_type": "stream",
     "text": [
      "| `act_category` | 7 |type 7 |type 1 |\n",
      "| `act_char_1` | 51 |type 9 |type 1 |\n",
      "| `act_char_2` | 32 |type 9 |type 1 |\n",
      "| `act_char_3` | 11 |type 9 |type 1 |\n",
      "| `act_char_4` | 7 |type 7 |type 1 |\n",
      "| `act_char_5` | 7 |type 7 |type 1 |\n",
      "| `act_char_6` | 5 |type 5 |type 1 |\n",
      "| `act_char_7` | 8 |type 8 |type 1 |\n",
      "| `act_char_8` | 18 |type 9 |type 1 |\n",
      "| `act_char_9` | 19 |type 9 |type 1 |\n",
      "| `act_char_10` | 6969 |type 999 |type 1 |\n",
      "| `act_outcome` | 2 |0.44395439657287086690 |\n"
     ]
    }
   ],
   "source": [
    "conn = psycopg2.connect(dbname='postgres', user='postgres', host=environ['REDHAT_POSTGRES_1_PORT_5432_TCP_ADDR'])\n",
    "cur = conn.cursor()\n",
    "for col in action_cols:\n",
    "    sql = \"SELECT COUNT (DISTINCT {}) \".format(col[0])\n",
    "    if col[1] != 'boolean':\n",
    "        sql += \", MAX({}), MIN({}) \".format(col[0], col[0])\n",
    "    if col[1] == 'real':    \n",
    "        sql += \", AVG({}) \".format(col[0])\n",
    "    if col[1] == 'boolean':    \n",
    "        sql += \", AVG({}::int) \".format(col[0])\n",
    "    \n",
    "    sql += \"from action\"\n",
    "    cur.execute(sql)\n",
    "    attr_string = \"| `\"\n",
    "    attr_string += col[0]\n",
    "    attr_string += \"` | \"\n",
    "    atrs = cur.fetchall()[0]\n",
    "    for atr in atrs:\n",
    "        attr_string += \"{} |\".format(atr)\n",
    "    print(attr_string)"
   ]
  },
  {
   "cell_type": "code",
   "execution_count": 9,
   "metadata": {
    "collapsed": false,
    "scrolled": false
   },
   "outputs": [
    {
     "name": "stdout",
     "output_type": "stream",
     "text": [
      "| `ppl_char_1` | 2 |type 2 |type 1 |\n",
      "| `ppl_char_2` | 3 |type 3 |type 1 |\n",
      "| `ppl_char_3` | 43 |type 9 |type 1 |\n",
      "| `ppl_char_4` | 25 |type 9 |type 1 |\n",
      "| `ppl_char_5` | 9 |type 9 |type 1 |\n",
      "| `ppl_char_6` | 7 |type 7 |type 1 |\n",
      "| `ppl_char_7` | 25 |type 9 |type 1 |\n",
      "| `ppl_char_8` | 8 |type 8 |type 1 |\n",
      "| `ppl_char_9` | 9 |type 9 |type 1 |\n",
      "| `ppl_char_10` | 2 |0.25094385515921276663 |\n",
      "| `ppl_char_11` | 2 |0.21550037542698209583 |\n",
      "| `ppl_char_12` | 2 |0.24034729639695851267 |\n",
      "| `ppl_char_13` | 2 |0.36507365771634640806 |\n",
      "| `ppl_char_14` | 2 |0.25980075931429054876 |\n",
      "| `ppl_char_15` | 2 |0.26951427151302361489 |\n",
      "| `ppl_char_16` | 2 |0.28207785615330111359 |\n",
      "| `ppl_char_17` | 2 |0.29196057487917596421 |\n",
      "| `ppl_char_18` | 2 |0.18762360008037310039 |\n",
      "| `ppl_char_19` | 2 |0.28465825569221332713 |\n",
      "| `ppl_char_20` | 2 |0.22911621315792256686 |\n",
      "| `ppl_char_21` | 2 |0.28503368267430916148 |\n",
      "| `ppl_char_22` | 2 |0.29105637749976205332 |\n",
      "| `ppl_char_23` | 2 |0.29849088928605420954 |\n",
      "| `ppl_char_24` | 2 |0.19044723400205162914 |\n",
      "| `ppl_char_25` | 2 |0.32778476929747565012 |\n",
      "| `ppl_char_26` | 2 |0.16702799310483401897 |\n",
      "| `ppl_char_27` | 2 |0.23805243287259806047 |\n",
      "| `ppl_char_28` | 2 |0.28888841887075793949 |\n",
      "| `ppl_char_29` | 2 |0.16834463139415602957 |\n",
      "| `ppl_char_30` | 2 |0.20693429499042925581 |\n",
      "| `ppl_char_31` | 2 |0.27858268382702862763 |\n",
      "| `ppl_char_32` | 2 |0.28490677777895282311 |\n",
      "| `ppl_char_33` | 2 |0.21784282828710117493 |\n",
      "| `ppl_char_34` | 2 |0.35648113875992766421 |\n",
      "| `ppl_char_35` | 2 |0.21027612390147949957 |\n",
      "| `ppl_char_36` | 2 |0.34370075825674975412 |\n",
      "| `ppl_char_37` | 2 |0.28545141128819044195 |\n",
      "| `ppl_char_38` | 101 |100.0 |0.0 |50.3273987669074 |\n"
     ]
    }
   ],
   "source": [
    "conn = psycopg2.connect(dbname='postgres', user='postgres', host=environ['REDHAT_POSTGRES_1_PORT_5432_TCP_ADDR'])\n",
    "cur = conn.cursor()\n",
    "for col in people_cols:\n",
    "    sql = \"SELECT COUNT (DISTINCT {}) \".format(col[0])\n",
    "    if col[1] != 'boolean':\n",
    "        sql += \", MAX({}), MIN({}) \".format(col[0], col[0])\n",
    "    if col[1] == 'real':    \n",
    "        sql += \", AVG({}) \".format(col[0])\n",
    "    if col[1] == 'boolean':    \n",
    "        sql += \", AVG({}::int) \".format(col[0])\n",
    "    \n",
    "    sql += \"from people\"\n",
    "    cur.execute(sql)\n",
    "    attr_string = \"| `\"\n",
    "    attr_string += col[0]\n",
    "    attr_string += \"` | \"\n",
    "    atrs = cur.fetchall()[0]\n",
    "    for atr in atrs:\n",
    "        attr_string += \"{} |\".format(atr)\n",
    "    print(attr_string)"
   ]
  },
  {
   "cell_type": "code",
   "execution_count": 27,
   "metadata": {
    "collapsed": false
   },
   "outputs": [],
   "source": [
    "import psycopg2\n",
    "import numpy as np\n",
    "from os import environ\n",
    "conn = psycopg2.connect(dbname='postgres', user='postgres', host=environ['REDHAT_POSTGRES_1_PORT_5432_TCP_ADDR'])\n",
    "cur = conn.cursor()\n",
    "ppl_atrs = {}\n",
    "for col in [col for col in people_cols if col[1]=='text']:\n",
    "    sql = \"SELECT DISTINCT {} \".format(col[0])    \n",
    "    sql += \"from people\"\n",
    "    cur.execute(sql)\n",
    "    atrs = [atr[0] for atr in cur.fetchall()]\n",
    "    ppl_atrs[col[0]] = atrs"
   ]
  },
  {
   "cell_type": "code",
   "execution_count": 28,
   "metadata": {
    "collapsed": false
   },
   "outputs": [
    {
     "name": "stdout",
     "output_type": "stream",
     "text": [
      "(0,)\n"
     ]
    }
   ],
   "source": [
    "import psycopg2\n",
    "import numpy as np\n",
    "from os import environ\n",
    "conn = psycopg2.connect(dbname='postgres', user='postgres', host=environ['REDHAT_POSTGRES_1_PORT_5432_TCP_ADDR'])\n",
    "cur = conn.cursor()\n",
    "cur.execute(\"select count(ppl_char_1) from people where ppl_char_1='type_1'\")\n",
    "print(cur.fetchall()[0])\n",
    "for k,v in ppl_atrs.items():\n",
    "    vals = []\n",
    "    for val in v:\n",
    "        sql = \"select count({}) from people where {}='{}'\".format(\n",
    "        k,k,val\n",
    "        )\n",
    "        cur.execute(sql)\n",
    "        count = cur.fetchall()[0]\n",
    "        vals.append((val,count[0]))\n",
    "    ppl_atrs[k] = vals\n",
    "        \n",
    "    "
   ]
  },
  {
   "cell_type": "code",
   "execution_count": 29,
   "metadata": {
    "collapsed": false
   },
   "outputs": [
    {
     "data": {
      "text/plain": [
       "[('type 1', 15251), ('type 2', 173867)]"
      ]
     },
     "execution_count": 29,
     "metadata": {},
     "output_type": "execute_result"
    }
   ],
   "source": [
    "ppl_atrs['ppl_char_1']"
   ]
  },
  {
   "cell_type": "code",
   "execution_count": 23,
   "metadata": {
    "collapsed": false,
    "scrolled": true
   },
   "outputs": [
    {
     "name": "stderr",
     "output_type": "stream",
     "text": [
      "/opt/conda/lib/python3.5/site-packages/matplotlib/font_manager.py:273: UserWarning: Matplotlib is building the font cache using fc-list. This may take a moment.\n",
      "  warnings.warn('Matplotlib is building the font cache using fc-list. This may take a moment.')\n",
      "/opt/conda/lib/python3.5/site-packages/matplotlib/font_manager.py:273: UserWarning: Matplotlib is building the font cache using fc-list. This may take a moment.\n",
      "  warnings.warn('Matplotlib is building the font cache using fc-list. This may take a moment.')\n"
     ]
    }
   ],
   "source": [
    "import matplotlib.pyplot as plt\n",
    "%matplotlib.inline"
   ]
  },
  {
   "cell_type": "code",
   "execution_count": 37,
   "metadata": {
    "collapsed": false
   },
   "outputs": [],
   "source": [
    "import numpy as np\n",
    "import matplotlib.pyplot as plt\n",
    "\n",
    "colors = ['red', 'blue', 'green']\n",
    "i=1\n",
    "def getCycledColor():\n",
    "    global i, colors\n",
    "    if i < len(colors) -1:\n",
    "        i = i + 1\n",
    "        return colors[i]\n",
    "    else:\n",
    "        i = -1\n",
    "\n",
    "def bar_for_atrs(atrs):\n",
    "    N = len(atrs)\n",
    "    vals = [atr[1] for atr in atrs]\n",
    "\n",
    "    ind = np.arange(N)  # the x locations for the groups\n",
    "    width = 0.35       # the width of the bars\n",
    "\n",
    "    fig, ax = plt.subplots()\n",
    "    rects1 = ax.bar(ind, vals, width, color=getCycledColor(), )\n",
    "\n"
   ]
  },
  {
   "cell_type": "code",
   "execution_count": 39,
   "metadata": {
    "collapsed": false
   },
   "outputs": [
    {
     "name": "stdout",
     "output_type": "stream",
     "text": [
      "ERROR! Session/line number was not unique in database. History logging moved to new session 16\n"
     ]
    },
    {
     "data": {
      "image/png": "[encoded data removed]",
      "text/plain": [
       "<matplotlib.figure.Figure at 0x7f91e0b4b470>"
      ]
     },
     "metadata": {},
     "output_type": "display_data"
    },
    {
     "data": {
      "image/png": "[encoded data removed]",
      "text/plain": [
       "<matplotlib.figure.Figure at 0x7f91be2020f0>"
      ]
     },
     "metadata": {},
     "output_type": "display_data"
    },
    {
     "data": {
      "image/png": "[encoded data removed]",
      "text/plain": [
       "<matplotlib.figure.Figure at 0x7f91bd18b2b0>"
      ]
     },
     "metadata": {},
     "output_type": "display_data"
    },
    {
     "data": {
      "image/png": "[encoded data removed]",
      "text/plain": [
       "<matplotlib.figure.Figure at 0x7f91bd160550>"
      ]
     },
     "metadata": {},
     "output_type": "display_data"
    },
    {
     "data": {
      "image/png": "[encoded data removed]",
      "text/plain": [
       "<matplotlib.figure.Figure at 0x7f91bbbbd0f0>"
      ]
     },
     "metadata": {},
     "output_type": "display_data"
    },
    {
     "data": {
      "image/png": "[encoded data removed]",
      "text/plain": [
       "<matplotlib.figure.Figure at 0x7f91b95f8860>"
      ]
     },
     "metadata": {},
     "output_type": "display_data"
    },
    {
     "data": {
      "image/png": "[encoded data removed]",
      "text/plain": [
       "<matplotlib.figure.Figure at 0x7f91b9595320>"
      ]
     },
     "metadata": {},
     "output_type": "display_data"
    },
    {
     "data": {
      "image/png": "[encoded data removed]",
      "text/plain": [
       "<matplotlib.figure.Figure at 0x7f91b94f7278>"
      ]
     },
     "metadata": {},
     "output_type": "display_data"
    },
    {
     "data": {
      "image/png": "[encoded data removed]",
      "text/plain": [
       "<matplotlib.figure.Figure at 0x7f91b94d5c18>"
      ]
     },
     "metadata": {},
     "output_type": "display_data"
    },
    {
     "data": {
      "image/png": "[encoded data removed]",
      "text/plain": [
       "<matplotlib.figure.Figure at 0x7f91bbc050b8>"
      ]
     },
     "metadata": {},
     "output_type": "display_data"
    }
   ],
   "source": [
    "bar_for_atrs(ppl_atrs['ppl_char_1'])\n"
   ]
  },
  {
   "cell_type": "code",
   "execution_count": 40,
   "metadata": {
    "collapsed": false
   },
   "outputs": [
    {
     "data": {
      "image/png": "[encoded data removed]",
      "text/plain": [
       "<matplotlib.figure.Figure at 0x7f91bdff0cc0>"
      ]
     },
     "metadata": {},
     "output_type": "display_data"
    }
   ],
   "source": [
    "bar_for_atrs(ppl_atrs['ppl_char_2'])\n",
    "\n"
   ]
  },
  {
   "cell_type": "code",
   "execution_count": 16,
   "metadata": {
    "collapsed": true
   },
   "outputs": [],
   "source": [
    "conn.close()"
   ]
  }
 ],
 "metadata": {
  "kernelspec": {
   "display_name": "Python 3",
   "language": "python",
   "name": "python3"
  },
  "language_info": {
   "codemirror_mode": {
    "name": "ipython",
    "version": 3
   },
   "file_extension": ".py",
   "mimetype": "text/x-python",
   "name": "python",
   "nbconvert_exporter": "python",
   "pygments_lexer": "ipython3",
   "version": "3.5.2"
  }
 },
 "nbformat": 4,
 "nbformat_minor": 0
}
