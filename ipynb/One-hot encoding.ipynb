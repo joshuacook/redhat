{
 "cells": [
  {
   "cell_type": "code",
   "execution_count": 1,
   "metadata": {
    "collapsed": false
   },
   "outputs": [],
   "source": [
    "import psycopg2\n",
    "import numpy as np\n",
    "from os import environ\n",
    "conn = psycopg2.connect(dbname='postgres', user='postgres', host=environ['POSTGRES_1_PORT_5432_TCP_ADDR'])\n",
    "cur = conn.cursor()"
   ]
  },
  {
   "cell_type": "code",
   "execution_count": 2,
   "metadata": {
    "collapsed": false
   },
   "outputs": [
    {
     "data": {
      "text/plain": [
       "array([[0, 1, 0, 1, 0],\n",
       "       [0, 1, 0, 0, 1],\n",
       "       [0, 1, 0, 0, 1],\n",
       "       [0, 1, 0, 0, 1],\n",
       "       [0, 1, 0, 0, 1],\n",
       "       [0, 1, 0, 0, 1],\n",
       "       [0, 1, 0, 1, 0],\n",
       "       [0, 1, 0, 0, 1],\n",
       "       [0, 1, 0, 0, 1],\n",
       "       [0, 1, 0, 0, 1]])"
      ]
     },
     "execution_count": 2,
     "metadata": {},
     "output_type": "execute_result"
    }
   ],
   "source": [
    "cur.execute(\"SELECT ppl_char_1,ppl_char_2 FROM people LIMIT 10\")\n",
    "this_row = cur.fetchone()\n",
    "one_hot = []\n",
    "while this_row:\n",
    "    one_hot.append([\n",
    "            this_row[0] == 'type 1',\n",
    "            this_row[0] == 'type 2',\n",
    "            this_row[1] == 'type 1',\n",
    "            this_row[1] == 'type 2',\n",
    "            this_row[1] == 'type 3',\n",
    "        ])\n",
    "    this_row = cur.fetchone()\n",
    "np.array(one_hot, dtype=int)"
   ]
  },
  {
   "cell_type": "code",
   "execution_count": 3,
   "metadata": {
    "collapsed": false
   },
   "outputs": [],
   "source": [
    "conn = psycopg2.connect(dbname='postgres', user='postgres', host=environ['POSTGRES_1_PORT_5432_TCP_ADDR'])\n",
    "cur = conn.cursor()\n",
    "cur.execute(\"SELECT act_id, act_outcome FROM action WHERE act_outcome = True OR act_outcome = False LIMIT 10\")\n",
    "this_id = cur.fetchone()[0]\n",
    "cur.execute(\"\"\"\n",
    "    SELECT a.act_id, a.act_date, a.act_category,\n",
    "            a.act_char_1, a.act_char_2, a.act_char_3,\n",
    "            a.act_char_4, a.act_char_5, a.act_char_6,\n",
    "            a.act_char_7, a.act_char_8, a.act_char_9,\n",
    "            a.act_char_10, a.act_outcome, p.people_id,\n",
    "            p.ppl_char_1, p.ppl_group_1, p.ppl_char_2,\n",
    "            p.ppl_date, p.ppl_char_3, p.ppl_char_4,\n",
    "            p.ppl_char_5, p.ppl_char_6, p.ppl_char_7,\n",
    "            p.ppl_char_8, p.ppl_char_9, p.ppl_char_10,\n",
    "            p.ppl_char_11, p.ppl_char_12, p.ppl_char_13,\n",
    "            p.ppl_char_14, p.ppl_char_15, p.ppl_char_16,\n",
    "            p.ppl_char_17, p.ppl_char_18, p.ppl_char_19,\n",
    "            p.ppl_char_20, p.ppl_char_21, p.ppl_char_22,\n",
    "            p.ppl_char_23, p.ppl_char_24, p.ppl_char_25,\n",
    "            p.ppl_char_26, p.ppl_char_27, p.ppl_char_28,\n",
    "            p.ppl_char_29, p.ppl_char_30, p.ppl_char_31,\n",
    "            p.ppl_char_32, p.ppl_char_33, p.ppl_char_34,\n",
    "            p.ppl_char_35, p.ppl_char_36, p.ppl_char_37,\n",
    "            p.ppl_char_38\n",
    "    FROM action a, people p \n",
    "    WHERE a.people_id = p.people_id AND a.act_id = '{}'\n",
    "    \"\"\".format(this_id))\n",
    "ppl_actions = cur.fetchall()"
   ]
  },
  {
   "cell_type": "code",
   "execution_count": 4,
   "metadata": {
    "collapsed": false
   },
   "outputs": [
    {
     "data": {
      "text/plain": [
       "1"
      ]
     },
     "execution_count": 4,
     "metadata": {},
     "output_type": "execute_result"
    }
   ],
   "source": [
    "len(ppl_actions)"
   ]
  },
  {
   "cell_type": "code",
   "execution_count": 6,
   "metadata": {
    "collapsed": true
   },
   "outputs": [],
   "source": [
    "keys = [\n",
    "    #('people_id',False),\n",
    "    ('act_id',False),\n",
    "    ('act_date',False),\n",
    "    ('act_category',True),\n",
    "    ('act_char_1',True),\n",
    "    ('act_char_2',True),\n",
    "    ('act_char_3',True),\n",
    "    ('act_char_4',True),\n",
    "    ('act_char_5',True),\n",
    "    ('act_char_6',True),\n",
    "    ('act_char_7',True),\n",
    "    ('act_char_8',True),\n",
    "    ('act_char_9',True),\n",
    "    ('act_char_10',False), \n",
    "    ('act_outcome',False), \n",
    "    ('people_id',False),\n",
    "    ('ppl_char_1',True),\n",
    "    ('ppl_group_1',False),\n",
    "    ('ppl_char_2',True),\n",
    "    ('ppl_date',False),\n",
    "    ('ppl_char_3',True),\n",
    "    ('ppl_char_4',True),\n",
    "    ('ppl_char_5',True),\n",
    "    ('ppl_char_6',True),\n",
    "    ('ppl_char_7',True),\n",
    "    ('ppl_char_8',True),\n",
    "    ('ppl_char_9',True),\n",
    "    ('ppl_char_10',False),\n",
    "    ('ppl_char_11',False),\n",
    "    ('ppl_char_12',False),\n",
    "    ('ppl_char_13',False),\n",
    "    ('ppl_char_14',False),\n",
    "    ('ppl_char_15',False),\n",
    "    ('ppl_char_16',False),\n",
    "    ('ppl_char_17',False),\n",
    "    ('ppl_char_18',False),\n",
    "    ('ppl_char_19',False),\n",
    "    ('ppl_char_20',False),\n",
    "    ('ppl_char_21',False),\n",
    "    ('ppl_char_22',False),\n",
    "    ('ppl_char_23',False),\n",
    "    ('ppl_char_24',False),\n",
    "    ('ppl_char_25',False),\n",
    "    ('ppl_char_26',False),\n",
    "    ('ppl_char_27',False),\n",
    "    ('ppl_char_28',False),\n",
    "    ('ppl_char_29',False),\n",
    "    ('ppl_char_30',False),\n",
    "    ('ppl_char_31',False),\n",
    "    ('ppl_char_32',False),\n",
    "    ('ppl_char_33',False),\n",
    "    ('ppl_char_34',False),\n",
    "    ('ppl_char_35',False),\n",
    "    ('ppl_char_36',False),\n",
    "    ('ppl_char_37',False),\n",
    "    ('ppl_char_38',False),\n",
    "]"
   ]
  },
  {
   "cell_type": "code",
   "execution_count": 7,
   "metadata": {
    "collapsed": false
   },
   "outputs": [],
   "source": [
    "for ppl_act in ppl_actions:\n",
    "    cols = []\n",
    "    vals = []\n",
    "    for key, attr in zip(keys,ppl_actions[0]):\n",
    "        if key[1]:\n",
    "            if attr == None:\n",
    "                attr = 'none'\n",
    "            col = str(key[0])+'_'+attr.replace(' ','_')\n",
    "            attr = True\n",
    "        else:\n",
    "            col = key[0]\n",
    "        cols.append(col)\n",
    "        vals.append(str(attr))\n",
    "    vals = \"', '\".join(vals)\n",
    "\n",
    "    cols = \", \".join(cols)"
   ]
  },
  {
   "cell_type": "code",
   "execution_count": 8,
   "metadata": {
    "collapsed": false
   },
   "outputs": [
    {
     "data": {
      "text/plain": [
       "'act_id, act_date, act_category_type_1, act_char_1_type_5, act_char_2_type_5, act_char_3_type_4, act_char_4_type_3, act_char_5_type_6, act_char_6_type_3, act_char_7_type_6, act_char_8_type_4, act_char_9_type_8, act_char_10, act_outcome, people_id, ppl_char_1_type_2, ppl_group_1, ppl_char_2_type_2, ppl_date, ppl_char_3_type_8, ppl_char_4_type_6, ppl_char_5_type_8, ppl_char_6_type_4, ppl_char_7_type_16, ppl_char_8_type_3, ppl_char_9_type_3, ppl_char_10, ppl_char_11, ppl_char_12, ppl_char_13, ppl_char_14, ppl_char_15, ppl_char_16, ppl_char_17, ppl_char_18, ppl_char_19, ppl_char_20, ppl_char_21, ppl_char_22, ppl_char_23, ppl_char_24, ppl_char_25, ppl_char_26, ppl_char_27, ppl_char_28, ppl_char_29, ppl_char_30, ppl_char_31, ppl_char_32, ppl_char_33, ppl_char_34, ppl_char_35, ppl_char_36, ppl_char_37, ppl_char_38'"
      ]
     },
     "execution_count": 8,
     "metadata": {},
     "output_type": "execute_result"
    }
   ],
   "source": [
    "cols"
   ]
  },
  {
   "cell_type": "code",
   "execution_count": 26,
   "metadata": {
    "collapsed": false
   },
   "outputs": [],
   "source": [
    "conn = psycopg2.connect(dbname='postgres', user='postgres', host=environ['REDHAT_POSTGRES_1_PORT_5432_TCP_ADDR'])\n",
    "cur = conn.cursor()\n",
    "cur.execute(\"INSERT into one_hot_ppl_act ({}) VALUES ('{}');\".format(cols,vals))"
   ]
  },
  {
   "cell_type": "code",
   "execution_count": 27,
   "metadata": {
    "collapsed": false
   },
   "outputs": [
    {
     "data": {
      "text/plain": [
       "('ppl_100',\n",
       " 'group 17304',\n",
       " datetime.datetime(2021, 6, 29, 0, 0),\n",
       " datetime.datetime(2023, 8, 26, 0, 0),\n",
       " 'act2_1734928',\n",
       " False,\n",
       " False,\n",
       " True,\n",
       " False,\n",
       " True,\n",
       " False,\n",
       " False,\n",
       " False,\n",
       " False,\n",
       " False,\n",
       " False,\n",
       " False,\n",
       " False,\n",
       " False,\n",
       " False,\n",
       " False,\n",
       " False,\n",
       " False,\n",
       " False,\n",
       " False,\n",
       " False,\n",
       " False,\n",
       " False,\n",
       " False,\n",
       " False,\n",
       " False,\n",
       " False,\n",
       " False,\n",
       " False,\n",
       " False,\n",
       " False,\n",
       " False,\n",
       " False,\n",
       " False,\n",
       " False,\n",
       " False,\n",
       " False,\n",
       " False,\n",
       " False,\n",
       " False,\n",
       " False,\n",
       " False,\n",
       " False,\n",
       " False,\n",
       " True,\n",
       " False,\n",
       " False,\n",
       " False,\n",
       " False,\n",
       " False,\n",
       " False,\n",
       " False,\n",
       " False,\n",
       " False,\n",
       " False,\n",
       " False,\n",
       " False,\n",
       " False,\n",
       " False,\n",
       " False,\n",
       " False,\n",
       " False,\n",
       " False,\n",
       " False,\n",
       " False,\n",
       " False,\n",
       " False,\n",
       " False,\n",
       " False,\n",
       " True,\n",
       " False,\n",
       " False,\n",
       " False,\n",
       " False,\n",
       " False,\n",
       " False,\n",
       " False,\n",
       " False,\n",
       " True,\n",
       " False,\n",
       " False,\n",
       " False,\n",
       " False,\n",
       " False,\n",
       " False,\n",
       " True,\n",
       " False,\n",
       " False,\n",
       " False,\n",
       " False,\n",
       " False,\n",
       " False,\n",
       " True,\n",
       " False,\n",
       " False,\n",
       " False,\n",
       " False,\n",
       " False,\n",
       " False,\n",
       " False,\n",
       " False,\n",
       " False,\n",
       " False,\n",
       " False,\n",
       " False,\n",
       " False,\n",
       " False,\n",
       " False,\n",
       " False,\n",
       " False,\n",
       " False,\n",
       " False,\n",
       " False,\n",
       " False,\n",
       " False,\n",
       " False,\n",
       " True,\n",
       " False,\n",
       " False,\n",
       " False,\n",
       " False,\n",
       " False,\n",
       " False,\n",
       " False,\n",
       " True,\n",
       " False,\n",
       " False,\n",
       " False,\n",
       " False,\n",
       " False,\n",
       " False,\n",
       " False,\n",
       " True,\n",
       " False,\n",
       " False,\n",
       " True,\n",
       " True,\n",
       " False,\n",
       " True,\n",
       " False,\n",
       " False,\n",
       " False,\n",
       " False,\n",
       " True,\n",
       " False,\n",
       " False,\n",
       " False,\n",
       " False,\n",
       " False,\n",
       " True,\n",
       " True,\n",
       " False,\n",
       " True,\n",
       " True,\n",
       " False,\n",
       " False,\n",
       " True,\n",
       " True,\n",
       " True,\n",
       " False,\n",
       " 36.0,\n",
       " False,\n",
       " False,\n",
       " False,\n",
       " True,\n",
       " False,\n",
       " False,\n",
       " False,\n",
       " True,\n",
       " False,\n",
       " False,\n",
       " False,\n",
       " False,\n",
       " False,\n",
       " False,\n",
       " False,\n",
       " False,\n",
       " False,\n",
       " False,\n",
       " False,\n",
       " False,\n",
       " False,\n",
       " False,\n",
       " False,\n",
       " False,\n",
       " False,\n",
       " False,\n",
       " False,\n",
       " False,\n",
       " False,\n",
       " False,\n",
       " False,\n",
       " False,\n",
       " False,\n",
       " False,\n",
       " False,\n",
       " False,\n",
       " False,\n",
       " False,\n",
       " False,\n",
       " False,\n",
       " False,\n",
       " False,\n",
       " False,\n",
       " False,\n",
       " False,\n",
       " False,\n",
       " False,\n",
       " False,\n",
       " False,\n",
       " False,\n",
       " False,\n",
       " False,\n",
       " False,\n",
       " False,\n",
       " False,\n",
       " False,\n",
       " False,\n",
       " False,\n",
       " False,\n",
       " True,\n",
       " False,\n",
       " False,\n",
       " False,\n",
       " False,\n",
       " False,\n",
       " False,\n",
       " False,\n",
       " False,\n",
       " False,\n",
       " False,\n",
       " False,\n",
       " False,\n",
       " False,\n",
       " False,\n",
       " False,\n",
       " False,\n",
       " False,\n",
       " False,\n",
       " False,\n",
       " False,\n",
       " False,\n",
       " False,\n",
       " False,\n",
       " False,\n",
       " False,\n",
       " False,\n",
       " False,\n",
       " False,\n",
       " False,\n",
       " False,\n",
       " False,\n",
       " False,\n",
       " True,\n",
       " False,\n",
       " False,\n",
       " False,\n",
       " False,\n",
       " False,\n",
       " False,\n",
       " False,\n",
       " False,\n",
       " False,\n",
       " False,\n",
       " False,\n",
       " True,\n",
       " False,\n",
       " False,\n",
       " False,\n",
       " False,\n",
       " False,\n",
       " False,\n",
       " False,\n",
       " True,\n",
       " False,\n",
       " False,\n",
       " False,\n",
       " False,\n",
       " False,\n",
       " False,\n",
       " False,\n",
       " True,\n",
       " False,\n",
       " False,\n",
       " False,\n",
       " False,\n",
       " False,\n",
       " True,\n",
       " False,\n",
       " False,\n",
       " False,\n",
       " False,\n",
       " False,\n",
       " False,\n",
       " False,\n",
       " False,\n",
       " True,\n",
       " False,\n",
       " False,\n",
       " False,\n",
       " False,\n",
       " False,\n",
       " False,\n",
       " False,\n",
       " False,\n",
       " False,\n",
       " False,\n",
       " False,\n",
       " False,\n",
       " False,\n",
       " False,\n",
       " False,\n",
       " False,\n",
       " False,\n",
       " False,\n",
       " True,\n",
       " False,\n",
       " False,\n",
       " False,\n",
       " False,\n",
       " False,\n",
       " False,\n",
       " False,\n",
       " False,\n",
       " False,\n",
       " False,\n",
       " False,\n",
       " False,\n",
       " False,\n",
       " False,\n",
       " False,\n",
       " False,\n",
       " False,\n",
       " False,\n",
       " False,\n",
       " 'type 76')"
      ]
     },
     "execution_count": 27,
     "metadata": {},
     "output_type": "execute_result"
    }
   ],
   "source": [
    "cur.execute(\"SELECT * FROM one_hot_ppl_act\")\n",
    "cur.fetchone()"
   ]
  },
  {
   "cell_type": "code",
   "execution_count": 15,
   "metadata": {
    "collapsed": false
   },
   "outputs": [
    {
     "data": {
      "text/plain": [
       "['act_char_9_none',\n",
       " 'act_char_9_type_4',\n",
       " 'act_char_9_type_1',\n",
       " 'act_char_9_type_6',\n",
       " 'act_char_9_type_9',\n",
       " 'act_char_9_type_15',\n",
       " 'act_char_9_type_10',\n",
       " 'act_char_9_type_5',\n",
       " 'act_char_9_type_14',\n",
       " 'act_char_9_type_8',\n",
       " 'act_char_9_type_2',\n",
       " 'act_char_9_type_17',\n",
       " 'act_char_9_type_11',\n",
       " 'act_char_9_type_18',\n",
       " 'act_char_9_type_16',\n",
       " 'act_char_9_type_19',\n",
       " 'act_char_9_type_7',\n",
       " 'act_char_9_type_13',\n",
       " 'act_char_9_type_3',\n",
       " 'act_char_9_type_12']"
      ]
     },
     "execution_count": 15,
     "metadata": {},
     "output_type": "execute_result"
    }
   ],
   "source": [
    "heads = []\n",
    "cur.execute(\"SELECT DISTINCT act_char_9 FROM action\")\n",
    "for head in cur.fetchall():\n",
    "    if head[0] == None:\n",
    "        header = 'none'\n",
    "    else:\n",
    "        header = head[0]\n",
    "    heads.append(\"act_char_9\"+'_'+header.replace(' ', \"_\"))\n",
    "heads"
   ]
  },
  {
   "cell_type": "code",
   "execution_count": 16,
   "metadata": {
    "collapsed": false
   },
   "outputs": [
    {
     "name": "stdout",
     "output_type": "stream",
     "text": [
      "File `heads.py` exists. Overwrite (y/[N])?  y\n",
      "The following commands were written to file `heads.py`:\n",
      "['act_char_9_none', 'act_char_9_type_4', 'act_char_9_type_1', 'act_char_9_type_6', 'act_char_9_type_9', 'act_char_9_type_15', 'act_char_9_type_10', 'act_char_9_type_5', 'act_char_9_type_14', 'act_char_9_type_8', 'act_char_9_type_2', 'act_char_9_type_17', 'act_char_9_type_11', 'act_char_9_type_18', 'act_char_9_type_16', 'act_char_9_type_19', 'act_char_9_type_7', 'act_char_9_type_13', 'act_char_9_type_3', 'act_char_9_type_12']\n"
     ]
    }
   ],
   "source": [
    "%save heads str(heads)"
   ]
  },
  {
   "cell_type": "code",
   "execution_count": 4,
   "metadata": {
    "collapsed": false,
    "scrolled": true
   },
   "outputs": [
    {
     "data": {
      "text/plain": [
       "\"['people_id', 'ppl_char_1', 'ppl_group_1', 'ppl_char_2', 'ppl_date', 'ppl_char_3', 'ppl_char_4', 'ppl_char_5', 'ppl_char_6', 'ppl_char_7', 'ppl_char_8', 'ppl_char_9', 'ppl_char_10', 'ppl_char_11', 'ppl_char_12', 'ppl_char_13', 'ppl_char_14', 'ppl_char_15', 'ppl_char_16', 'ppl_char_17', 'ppl_char_18', 'ppl_char_19', 'ppl_char_20', 'ppl_char_21', 'ppl_char_22', 'ppl_char_23', 'ppl_char_24', 'ppl_char_25', 'ppl_char_26', 'ppl_char_27', 'ppl_char_28', 'ppl_char_29', 'ppl_char_30', 'ppl_char_31', 'ppl_char_32', 'ppl_char_33', 'ppl_char_34', 'ppl_char_35', 'ppl_char_36', 'ppl_char_37', 'ppl_char_38']\""
      ]
     },
     "execution_count": 4,
     "metadata": {},
     "output_type": "execute_result"
    }
   ],
   "source": [
    "str(column_names)"
   ]
  },
  {
   "cell_type": "code",
   "execution_count": 5,
   "metadata": {
    "collapsed": false
   },
   "outputs": [],
   "source": [
    "column_names.remove('people_id')\n",
    "column_names.remove('ppl_group_1')\n",
    "column_names.remove('ppl_date')"
   ]
  },
  {
   "cell_type": "code",
   "execution_count": 6,
   "metadata": {
    "collapsed": false
   },
   "outputs": [
    {
     "data": {
      "text/plain": [
       "\"[('ppl_char_1', 2), ('ppl_char_2', 3), ('ppl_char_3', 43), ('ppl_char_4', 25), ('ppl_char_5', 9), ('ppl_char_6', 7), ('ppl_char_7', 25), ('ppl_char_8', 8), ('ppl_char_9', 9), ('ppl_char_10', 2), ('ppl_char_11', 2), ('ppl_char_12', 2), ('ppl_char_13', 2), ('ppl_char_14', 2), ('ppl_char_15', 2), ('ppl_char_16', 2), ('ppl_char_17', 2), ('ppl_char_18', 2), ('ppl_char_19', 2), ('ppl_char_20', 2), ('ppl_char_21', 2), ('ppl_char_22', 2), ('ppl_char_23', 2), ('ppl_char_24', 2), ('ppl_char_25', 2), ('ppl_char_26', 2), ('ppl_char_27', 2), ('ppl_char_28', 2), ('ppl_char_29', 2), ('ppl_char_30', 2), ('ppl_char_31', 2), ('ppl_char_32', 2), ('ppl_char_33', 2), ('ppl_char_34', 2), ('ppl_char_35', 2), ('ppl_char_36', 2), ('ppl_char_37', 2), ('ppl_char_38', 101)]\""
      ]
     },
     "execution_count": 6,
     "metadata": {},
     "output_type": "execute_result"
    }
   ],
   "source": [
    "names_distinct_counts = []\n",
    "for col in column_names:\n",
    "    cur.execute(\"SELECT COUNT( DISTINCT {}) FROM people\".format(col))\n",
    "    names_distinct_counts.append((col,cur.fetchall()[0][0]))\n",
    "str(names_distinct_counts)"
   ]
  },
  {
   "cell_type": "code",
   "execution_count": 14,
   "metadata": {
    "collapsed": false
   },
   "outputs": [
    {
     "data": {
      "text/plain": [
       "\"[('ppl_char_1', ['type 1', 'type 2']), ('ppl_char_2', ['type 3', 'type 2', 'type 1']), ('ppl_char_3', ['type 24', 'type 21', 'type 28', 'type 4', 'type 1', 'type 27', 'type 6', 'type 26', 'type 33', 'type 35', 'type 37', 'type 10', 'type 8', 'type 2', 'type 22', 'type 39', 'type 7', 'type 13', 'type 40', 'type 3', 'type 20', 'type 38', 'type 36', 'type 42', 'type 34', 'type 41', 'type 31', 'type 9', 'type 15', 'type 5', 'type 14', 'type 17', 'type 11', 'type 18', 'type 16', 'type 29', 'type 19', 'type 32', 'type 44', 'type 25', 'type 12', 'type 30', 'type 23']), ('ppl_char_4', ['type 21', 'type 24', 'type 4', 'type 1', 'type 6', 'type 9', 'type 15', 'type 5', 'type 10', 'type 14', 'type 8', 'type 2', 'type 22', 'type 17', 'type 11', 'type 18', 'type 16', 'type 19', 'type 7', 'type 13', 'type 25', 'type 12', 'type 3', 'type 20', 'type 23']), ('ppl_char_5', ['type 4', 'type 1', 'type 6', 'type 9', 'type 7', 'type 3', 'type 5', 'type 8', 'type 2']), ('ppl_char_6', ['type 4', 'type 7', 'type 1', 'type 3', 'type 6', 'type 5', 'type 2']), ('ppl_char_7', ['type 21', 'type 24', 'type 4', 'type 1', 'type 6', 'type 9', 'type 15', 'type 5', 'type 10', 'type 14', 'type 8', 'type 2', 'type 22', 'type 17', 'type 11', 'type 18', 'type 16', 'type 19', 'type 7', 'type 13', 'type 25', 'type 3', 'type 12', 'type 20', 'type 23']), ('ppl_char_8', ['type 4', 'type 7', 'type 1', 'type 3', 'type 6', 'type 5', 'type 2', 'type 8']), ('ppl_char_9', ['type 4', 'type 1', 'type 6', 'type 9', 'type 7', 'type 3', 'type 5', 'type 2', 'type 8']), ('ppl_char_10', ['True', 'False']), ('ppl_char_11', ['False', 'True']), ('ppl_char_12', ['False', 'True']), ('ppl_char_13', ['True', 'False']), ('ppl_char_14', ['True', 'False']), ('ppl_char_15', ['False', 'True']), ('ppl_char_16', ['True', 'False']), ('ppl_char_17', ['False', 'True']), ('ppl_char_18', ['False', 'True']), ('ppl_char_19', ['False', 'True']), ('ppl_char_20', ['False', 'True']), ('ppl_char_21', ['True', 'False']), ('ppl_char_22', ['False', 'True']), ('ppl_char_23', ['False', 'True']), ('ppl_char_24', ['False', 'True']), ('ppl_char_25', ['False', 'True']), ('ppl_char_26', ['False', 'True']), ('ppl_char_27', ['True', 'False']), ('ppl_char_28', ['True', 'False']), ('ppl_char_29', ['False', 'True']), ('ppl_char_30', ['True', 'False']), ('ppl_char_31', ['True', 'False']), ('ppl_char_32', ['False', 'True']), ('ppl_char_33', ['False', 'True']), ('ppl_char_34', ['True', 'False']), ('ppl_char_35', ['True', 'False']), ('ppl_char_36', ['True', 'False']), ('ppl_char_37', ['False', 'True']), ('ppl_char_38', [0.0, 48.0, 31.0, 60.0, 28.0, 80.0, 38.0, 61.0, 98.0, 86.0, 34.0, 66.0, 16.0, 75.0, 21.0, 53.0, 29.0, 6.0, 49.0, 27.0, 85.0, 22.0, 35.0, 76.0, 51.0, 39.0, 32.0, 79.0, 5.0, 74.0, 91.0, 40.0, 84.0, 77.0, 69.0, 57.0, 11.0, 55.0, 1.0, 19.0, 70.0, 20.0, 23.0, 17.0, 13.0, 42.0, 89.0, 47.0, 54.0, 2.0, 88.0, 46.0, 82.0, 95.0, 83.0, 44.0, 52.0, 59.0, 45.0, 94.0, 18.0, 92.0, 58.0, 63.0, 68.0, 25.0, 3.0, 62.0, 81.0, 56.0, 26.0, 10.0, 30.0, 12.0, 15.0, 73.0, 67.0, 43.0, 71.0, 24.0, 7.0, 65.0, 9.0, 37.0, 36.0, 33.0, 8.0, 78.0, 99.0, 72.0, 4.0, 93.0, 90.0, 96.0, 41.0, 100.0, 97.0, 50.0, 14.0, 87.0, 64.0])]\""
      ]
     },
     "execution_count": 14,
     "metadata": {},
     "output_type": "execute_result"
    }
   ],
   "source": [
    "names_distinct = []\n",
    "for col in column_names:\n",
    "    cur.execute(\"SELECT DISTINCT {} FROM people\".format(col))\n",
    "    names_distinct.append((col, [c[0] for c in cur.fetchall()]))\n",
    "str(names_distinct)"
   ]
  },
  {
   "cell_type": "code",
   "execution_count": 16,
   "metadata": {
    "collapsed": true
   },
   "outputs": [],
   "source": [
    "conn.close()"
   ]
  },
  {
   "cell_type": "code",
   "execution_count": null,
   "metadata": {
    "collapsed": true
   },
   "outputs": [],
   "source": []
  }
 ],
 "metadata": {
  "kernelspec": {
   "display_name": "Python 3",
   "language": "python",
   "name": "python3"
  },
  "language_info": {
   "codemirror_mode": {
    "name": "ipython",
    "version": 3
   },
   "file_extension": ".py",
   "mimetype": "text/x-python",
   "name": "python",
   "nbconvert_exporter": "python",
   "pygments_lexer": "ipython3",
   "version": "3.5.2"
  }
 },
 "nbformat": 4,
 "nbformat_minor": 0
}
