{
 "cells": [
  {
   "cell_type": "code",
   "execution_count": 1,
   "metadata": {
    "collapsed": false
   },
   "outputs": [],
   "source": [
    "from os import chdir; chdir('../')\n",
    "from numpy import mean\n",
    "from random import shuffle, seed"
   ]
  },
  {
   "cell_type": "code",
   "execution_count": 2,
   "metadata": {
    "collapsed": true
   },
   "outputs": [],
   "source": [
    "from lib.helpers.database_helper import pull_actions, pull_and_shape_batch\n",
    "from lib.nn.functions import measure_accuracy, random_matrix"
   ]
  },
  {
   "cell_type": "code",
   "execution_count": 3,
   "metadata": {
    "collapsed": false
   },
   "outputs": [],
   "source": [
    "seed(42)\n",
    "action_set = pull_actions(limit=90000,action_type='training')\n",
    "shuffle(action_set)\n",
    "training_set = action_set[:75000]\n",
    "test_set = action_set[75000:]"
   ]
  },
  {
   "cell_type": "code",
   "execution_count": 4,
   "metadata": {
    "collapsed": true
   },
   "outputs": [],
   "source": [
    "accuracies = []"
   ]
  },
  {
   "cell_type": "code",
   "execution_count": 5,
   "metadata": {
    "collapsed": false,
    "scrolled": false
   },
   "outputs": [
    {
     "name": "stdout",
     "output_type": "stream",
     "text": [
      "0.5552\n",
      "0.636933333333\n",
      "0.544133333333\n",
      "0.551466666667\n",
      "1 loop, best of 3: 1min 30s per loop\n"
     ]
    }
   ],
   "source": [
    "%%timeit\n",
    "# initialize a random_weights matrix\n",
    "random_weights = random_matrix(2, 7326)\n",
    "features, outcomes = pull_and_shape_batch(action_ids=test_set)\n",
    "accuracy = measure_accuracy(random_weights, features, outcomes)\n",
    "print(accuracy)\n",
    "accuracies.append(accuracy)"
   ]
  },
  {
   "cell_type": "code",
   "execution_count": 6,
   "metadata": {
    "collapsed": false
   },
   "outputs": [
    {
     "data": {
      "text/plain": [
       "0.5719333333333334"
      ]
     },
     "execution_count": 6,
     "metadata": {},
     "output_type": "execute_result"
    }
   ],
   "source": [
    "mean(accuracies)"
   ]
  }
 ],
 "metadata": {
  "kernelspec": {
   "display_name": "Python 3",
   "language": "python",
   "name": "python3"
  },
  "language_info": {
   "codemirror_mode": {
    "name": "ipython",
    "version": 3
   },
   "file_extension": ".py",
   "mimetype": "text/x-python",
   "name": "python",
   "nbconvert_exporter": "python",
   "pygments_lexer": "ipython3",
   "version": "3.5.2"
  }
 },
 "nbformat": 4,
 "nbformat_minor": 0
}
