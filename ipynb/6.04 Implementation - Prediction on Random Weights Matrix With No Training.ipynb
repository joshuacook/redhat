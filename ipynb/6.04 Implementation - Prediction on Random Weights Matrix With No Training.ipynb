{
 "cells": [
  {
   "cell_type": "code",
   "execution_count": 1,
   "metadata": {
    "collapsed": false
   },
   "outputs": [],
   "source": [
    "from os import chdir; chdir('../')\n",
    "from random import shuffle, seed"
   ]
  },
  {
   "cell_type": "code",
   "execution_count": 2,
   "metadata": {
    "collapsed": false
   },
   "outputs": [],
   "source": [
    "from lib.helpers.database_helper import pull_actions, pull_and_shape_batch\n",
    "from lib.nn.metrics import measure_accuracy, measure_f1_score, correlation_matrix\n",
    "from lib.nn.functions import random_matrix, predict"
   ]
  },
  {
   "cell_type": "code",
   "execution_count": 3,
   "metadata": {
    "collapsed": false
   },
   "outputs": [],
   "source": [
    "seed(42)\n",
    "action_set = pull_actions(limit=90000,action_type='training')\n",
    "shuffle(action_set)\n",
    "training_set = action_set[:75000]\n",
    "test_set = action_set[75000:]"
   ]
  },
  {
   "cell_type": "code",
   "execution_count": 4,
   "metadata": {
    "collapsed": true
   },
   "outputs": [],
   "source": [
    "random_weights = random_matrix(2, 356)\n",
    "features, outcomes = pull_and_shape_batch(action_ids=test_set)\n",
    "predicted = predict(random_weights, features)"
   ]
  },
  {
   "cell_type": "code",
   "execution_count": 5,
   "metadata": {
    "collapsed": false,
    "scrolled": false
   },
   "outputs": [
    {
     "name": "stdout",
     "output_type": "stream",
     "text": [
      "\n",
      "                    act      act\n",
      "                   true    false   totals \n",
      "    +------------+-------+-------+-------+\n",
      "    | pred true  |  4971 |  2134 |  7105 |\n",
      "    +------------+-------+-------+-------+\n",
      "    | pred false |  2118 |  5777 |  7895 |\n",
      "    +------------+-------+-------+-------+\n",
      "    |  totals    |  7089 |  7911 | 15000 |\n",
      "    +------------+-------+-------+-------+\n",
      "    \n",
      "0.716533333333\n",
      "0.7004368042835001\n"
     ]
    }
   ],
   "source": [
    "correlation_matrix(predicted, outcomes)\n",
    "print(\"accuracy: \" + str(measure_accuracy(predicted, outcomes)))\n",
    "print(\"f1_score: \" + str(measure_f1_score(predicted, outcomes)))"
   ]
  },
  {
   "cell_type": "code",
   "execution_count": 6,
   "metadata": {
    "collapsed": false
   },
   "outputs": [
    {
     "name": "stdout",
     "output_type": "stream",
     "text": [
      "\n",
      "                    act      act\n",
      "                   true    false   totals \n",
      "    +------------+-------+-------+-------+\n",
      "    | pred true  |    39 |  1624 |  1663 |\n",
      "    +------------+-------+-------+-------+\n",
      "    | pred false |  7050 |  6287 | 13337 |\n",
      "    +------------+-------+-------+-------+\n",
      "    |  totals    |  7089 |  7911 | 15000 |\n",
      "    +------------+-------+-------+-------+\n",
      "    \n",
      "0.421733333333\n",
      "0.008912248628884827\n"
     ]
    }
   ],
   "source": [
    "random_weights = random_matrix(2, 356)\n",
    "features, outcomes = pull_and_shape_batch(action_ids=test_set)\n",
    "predicted = predict(random_weights, features)\n",
    "correlation_matrix(predicted, outcomes)\n",
    "print(\"accuracy: \" + str(measure_accuracy(predicted, outcomes)))\n",
    "print(\"f1_score: \" + str(measure_f1_score(predicted, outcomes)))"
   ]
  },
  {
   "cell_type": "code",
   "execution_count": 7,
   "metadata": {
    "collapsed": false
   },
   "outputs": [
    {
     "name": "stdout",
     "output_type": "stream",
     "text": [
      "\n",
      "                    act      act\n",
      "                   true    false   totals \n",
      "    +------------+-------+-------+-------+\n",
      "    | pred true  |     0 |     2 |     2 |\n",
      "    +------------+-------+-------+-------+\n",
      "    | pred false |  7089 |  7909 | 14998 |\n",
      "    +------------+-------+-------+-------+\n",
      "    |  totals    |  7089 |  7911 | 15000 |\n",
      "    +------------+-------+-------+-------+\n",
      "    \n",
      "0.527266666667\n"
     ]
    },
    {
     "ename": "ZeroDivisionError",
     "evalue": "float division by zero",
     "output_type": "error",
     "traceback": [
      "\u001b[0;31m---------------------------------------------------------------------------\u001b[0m",
      "\u001b[0;31mZeroDivisionError\u001b[0m                         Traceback (most recent call last)",
      "\u001b[0;32m<ipython-input-7-c8b79bd72408>\u001b[0m in \u001b[0;36m<module>\u001b[0;34m()\u001b[0m\n\u001b[1;32m      4\u001b[0m \u001b[0mcorrelation_matrix\u001b[0m\u001b[0;34m(\u001b[0m\u001b[0mpredicted\u001b[0m\u001b[0;34m,\u001b[0m \u001b[0moutcomes\u001b[0m\u001b[0;34m)\u001b[0m\u001b[0;34m\u001b[0m\u001b[0m\n\u001b[1;32m      5\u001b[0m \u001b[0mprint\u001b[0m\u001b[0;34m(\u001b[0m\u001b[0mmeasure_accuracy\u001b[0m\u001b[0;34m(\u001b[0m\u001b[0mpredicted\u001b[0m\u001b[0;34m,\u001b[0m \u001b[0moutcomes\u001b[0m\u001b[0;34m)\u001b[0m\u001b[0;34m)\u001b[0m\u001b[0;34m\u001b[0m\u001b[0m\n\u001b[0;32m----> 6\u001b[0;31m \u001b[0mprint\u001b[0m\u001b[0;34m(\u001b[0m\u001b[0mmeasure_f1_score\u001b[0m\u001b[0;34m(\u001b[0m\u001b[0mpredicted\u001b[0m\u001b[0;34m,\u001b[0m \u001b[0moutcomes\u001b[0m\u001b[0;34m)\u001b[0m\u001b[0;34m)\u001b[0m\u001b[0;34m\u001b[0m\u001b[0m\n\u001b[0m",
      "\u001b[0;32m/home/jovyan/work/lib/nn/metrics.py\u001b[0m in \u001b[0;36mmeasure_f1_score\u001b[0;34m(prediction, actual)\u001b[0m\n\u001b[1;32m     18\u001b[0m \u001b[0;32mdef\u001b[0m \u001b[0mmeasure_f1_score\u001b[0m\u001b[0;34m(\u001b[0m\u001b[0mprediction\u001b[0m\u001b[0;34m,\u001b[0m \u001b[0mactual\u001b[0m\u001b[0;34m)\u001b[0m\u001b[0;34m:\u001b[0m\u001b[0;34m\u001b[0m\u001b[0m\n\u001b[1;32m     19\u001b[0m     \u001b[0m_\u001b[0m\u001b[0;34m,\u001b[0m \u001b[0m_\u001b[0m\u001b[0;34m,\u001b[0m \u001b[0m_\u001b[0m\u001b[0;34m,\u001b[0m \u001b[0m_\u001b[0m\u001b[0;34m,\u001b[0m \u001b[0mprecision\u001b[0m\u001b[0;34m,\u001b[0m \u001b[0mrecall\u001b[0m \u001b[0;34m=\u001b[0m \u001b[0mprecision_and_recall\u001b[0m\u001b[0;34m(\u001b[0m\u001b[0mprediction\u001b[0m\u001b[0;34m,\u001b[0m \u001b[0mactual\u001b[0m\u001b[0;34m)\u001b[0m\u001b[0;34m\u001b[0m\u001b[0m\n\u001b[0;32m---> 20\u001b[0;31m     \u001b[0;32mreturn\u001b[0m \u001b[0;36m2\u001b[0m\u001b[0;34m/\u001b[0m\u001b[0;34m(\u001b[0m\u001b[0;36m1\u001b[0m\u001b[0;34m/\u001b[0m\u001b[0mfloat\u001b[0m\u001b[0;34m(\u001b[0m\u001b[0mrecall\u001b[0m\u001b[0;34m)\u001b[0m \u001b[0;34m+\u001b[0m \u001b[0;36m1\u001b[0m\u001b[0;34m/\u001b[0m\u001b[0mfloat\u001b[0m\u001b[0;34m(\u001b[0m\u001b[0mprecision\u001b[0m\u001b[0;34m)\u001b[0m\u001b[0;34m)\u001b[0m\u001b[0;34m\u001b[0m\u001b[0m\n\u001b[0m\u001b[1;32m     21\u001b[0m \u001b[0;34m\u001b[0m\u001b[0m\n\u001b[1;32m     22\u001b[0m \u001b[0;34m\u001b[0m\u001b[0m\n",
      "\u001b[0;31mZeroDivisionError\u001b[0m: float division by zero"
     ]
    }
   ],
   "source": [
    "random_weights = random_matrix(2, 356)\n",
    "features, outcomes = pull_and_shape_batch(action_ids=test_set)\n",
    "predicted = predict(random_weights, features)\n",
    "correlation_matrix(predicted, outcomes)\n",
    "print(\"accuracy: \" + str(measure_accuracy(predicted, outcomes)))\n",
    "print(\"f1_score: \" + str(measure_f1_score(predicted, outcomes)))"
   ]
  },
  {
   "cell_type": "code",
   "execution_count": null,
   "metadata": {
    "collapsed": true
   },
   "outputs": [],
   "source": []
  }
 ],
 "metadata": {
  "kernelspec": {
   "display_name": "Python 3",
   "language": "python",
   "name": "python3"
  },
  "language_info": {
   "codemirror_mode": {
    "name": "ipython",
    "version": 3
   },
   "file_extension": ".py",
   "mimetype": "text/x-python",
   "name": "python",
   "nbconvert_exporter": "python",
   "pygments_lexer": "ipython3",
   "version": "3.5.2"
  }
 },
 "nbformat": 4,
 "nbformat_minor": 0
}
