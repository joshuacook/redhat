{
 "cells": [
  {
   "cell_type": "code",
   "execution_count": 1,
   "metadata": {
    "collapsed": false
   },
   "outputs": [
    {
     "name": "stdout",
     "output_type": "stream",
     "text": [
      "/home/jovyan/work\n"
     ]
    }
   ],
   "source": [
    "cd ~/work"
   ]
  },
  {
   "cell_type": "markdown",
   "metadata": {},
   "source": [
    "Data is provided in the form of three separate data sets  encoded as CSV:"
   ]
  },
  {
   "cell_type": "code",
   "execution_count": 2,
   "metadata": {
    "collapsed": false,
    "scrolled": true
   },
   "outputs": [
    {
     "name": "stdout",
     "output_type": "stream",
     "text": [
      "total 222924\r\n",
      "-rw-r--r-- 1 jovyan 1000  32610690 Sep 16 00:23 act_test.csv\r\n",
      "-rw-r--r-- 1 jovyan 1000 144781425 Sep 16 00:21 act_train.csv\r\n",
      "-rw-rw-r-- 1 jovyan 1000       239 Sep  7 16:16 Dockerfile\r\n",
      "-rw-r--r-- 1 jovyan 1000  50849531 Sep 15 19:58 people.csv\r\n",
      "-rw-rw-r-- 1 jovyan 1000     16435 Sep 12 02:25 tables.sql\r\n"
     ]
    }
   ],
   "source": [
    "ls -l docker/postgres\n"
   ]
  },
  {
   "cell_type": "code",
   "execution_count": 3,
   "metadata": {
    "collapsed": false
   },
   "outputs": [
    {
     "name": "stdout",
     "output_type": "stream",
     "text": [
      "activity_id,outcome\n",
      "act1_1,0\n",
      "act1_100006,0\n",
      "act1_100050,0\n",
      "act1_100065,0\n",
      "act1_100068,0\n",
      "act1_100100,0\n",
      "act1_100109,0\n",
      "act1_10012,0\n",
      "act1_100135,0\n"
     ]
    }
   ],
   "source": [
    "%%bash\n",
    "head data/sample_submission.csv"
   ]
  }
 ],
 "metadata": {
  "kernelspec": {
   "display_name": "Python 3",
   "language": "python",
   "name": "python3"
  },
  "language_info": {
   "codemirror_mode": {
    "name": "ipython",
    "version": 3
   },
   "file_extension": ".py",
   "mimetype": "text/x-python",
   "name": "python",
   "nbconvert_exporter": "python",
   "pygments_lexer": "ipython3",
   "version": "3.5.2"
  }
 },
 "nbformat": 4,
 "nbformat_minor": 0
}
