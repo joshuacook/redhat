{
 "cells": [
  {
   "cell_type": "code",
   "execution_count": 1,
   "metadata": {
    "collapsed": true
   },
   "outputs": [],
   "source": [
    "import numpy as np"
   ]
  },
  {
   "cell_type": "code",
   "execution_count": 2,
   "metadata": {
    "collapsed": true
   },
   "outputs": [],
   "source": [
    "import numpy.random as ne"
   ]
  },
  {
   "cell_type": "code",
   "execution_count": 82,
   "metadata": {
    "collapsed": false
   },
   "outputs": [
    {
     "data": {
      "text/plain": [
       "array([[ 0.77797683,  0.82074164,  0.66930336, -1.37971502,  1.03120443,\n",
       "         1.45678102,  1.20243539,  2.07151824,  0.15936917, -0.51297835,\n",
       "         1.82383418, -1.62017293, -0.44552955, -1.01540025,  0.06613209,\n",
       "         0.19572655, -1.84710263, -1.02451507,  0.17839654,  1.75498714,\n",
       "        -1.85318738, -0.48214294, -1.57998632,  0.30680124,  0.17271787,\n",
       "        -0.10536166, -1.96062574,  0.4291534 , -0.2063494 , -0.39698179,\n",
       "         0.76331964,  0.40431574, -1.2745023 ,  0.48226049, -0.61764349,\n",
       "         0.91728912,  1.01811394, -0.8010712 ,  0.32864679,  0.14776598,\n",
       "         0.16624955,  1.27665808, -1.12829496, -0.23049573, -1.09608298,\n",
       "        -0.52041822,  1.40172718, -0.78804145, -1.79111375,  0.51683648,\n",
       "         0.13326264,  1.62932141, -0.27359434, -0.68372164, -0.28733829,\n",
       "         0.02807111,  2.3127778 , -0.70623078,  0.74095276,  0.74149958,\n",
       "         1.46569616, -0.96478859, -0.72236667,  2.15563048, -0.11585193,\n",
       "        -0.49107119, -0.17480944,  0.30961983, -1.51506594,  0.60997522,\n",
       "         0.96061071, -0.44227912, -0.92280677,  0.61541567,  1.09001366,\n",
       "        -1.39728077,  0.90727173,  1.24972419,  0.09394405,  0.18212624,\n",
       "         0.71818917, -0.34096673, -0.80009404, -1.39088957, -1.40583557,\n",
       "        -0.23749801, -1.65977409,  1.30798475,  0.84244239,  1.23129428,\n",
       "        -0.93403314,  0.08252426,  1.17258575, -0.26582496, -0.43801726,\n",
       "         0.24556663,  0.58707304,  0.27146767, -0.33904644, -0.64436161],\n",
       "       [ 1.07911481, -0.38637228, -2.02475359, -0.58878936, -0.18802327,\n",
       "        -0.31419743,  0.20821821,  0.00871946, -0.25466216, -0.01668744,\n",
       "        -0.47941616,  0.3891454 ,  0.20620954,  0.00623139, -0.14262828,\n",
       "         0.01589714, -0.29155017, -1.16548192, -0.38555333,  1.12808892,\n",
       "        -0.46841952,  0.09349465,  0.74118581, -0.44429056,  0.62381696,\n",
       "        -1.34519476,  0.75692657,  1.18764886,  0.24633377, -1.24183046,\n",
       "         0.37412768,  0.48472487,  2.66949842,  0.4349062 ,  0.49062182,\n",
       "         0.2236662 , -2.46170371,  0.86524118, -0.39184341,  0.7872866 ,\n",
       "        -0.01896137,  0.21747103,  0.16110425, -1.00801258, -0.4296615 ,\n",
       "        -2.32788332, -1.65862389, -1.09221017, -0.71748472,  1.61660334,\n",
       "        -0.65549854,  0.02654564, -0.82444065,  0.12503464, -1.28377312,\n",
       "         0.55234525,  1.36553077,  0.41808028, -0.74585699, -0.41907038,\n",
       "        -1.55405815, -0.4385661 ,  0.79322474,  2.55785237, -1.15533236,\n",
       "         1.54473003,  1.41618781,  0.6524351 , -0.76783965, -0.38193782,\n",
       "        -0.72520138, -0.1033194 ,  1.10825033, -1.44081489,  0.182491  ,\n",
       "        -2.001296  ,  1.27053908, -0.55377756,  0.88435314,  0.61281428,\n",
       "        -0.76073237, -0.39726883, -1.2789245 , -0.61583007,  0.08809679,\n",
       "        -0.4486913 ,  0.99409522,  1.10218132, -0.24306331,  1.6369799 ,\n",
       "         0.47645091,  0.25333386,  2.57427823,  1.0668763 , -1.51237623,\n",
       "         1.97283454, -1.26046373, -0.69918858,  0.24449094,  1.460453  ]])"
      ]
     },
     "execution_count": 82,
     "metadata": {},
     "output_type": "execute_result"
    }
   ],
   "source": [
    "ne.randn(2,100)"
   ]
  },
  {
   "cell_type": "code",
   "execution_count": 191,
   "metadata": {
    "collapsed": false
   },
   "outputs": [],
   "source": [
    "foo = np.greater(np.zeros(3),ne.randn(3)-.5).astype(int)"
   ]
  },
  {
   "cell_type": "code",
   "execution_count": 192,
   "metadata": {
    "collapsed": false
   },
   "outputs": [
    {
     "data": {
      "text/plain": [
       "array([1, 0, 1])"
      ]
     },
     "execution_count": 192,
     "metadata": {},
     "output_type": "execute_result"
    }
   ],
   "source": [
    "foo"
   ]
  },
  {
   "cell_type": "code",
   "execution_count": 193,
   "metadata": {
    "collapsed": false
   },
   "outputs": [
    {
     "data": {
      "text/plain": [
       "array([ 0, -1,  0])"
      ]
     },
     "execution_count": 193,
     "metadata": {},
     "output_type": "execute_result"
    }
   ],
   "source": [
    "foo -1"
   ]
  },
  {
   "cell_type": "code",
   "execution_count": 194,
   "metadata": {
    "collapsed": false
   },
   "outputs": [
    {
     "data": {
      "text/plain": [
       "array([0, 1, 0])"
      ]
     },
     "execution_count": 194,
     "metadata": {},
     "output_type": "execute_result"
    }
   ],
   "source": [
    "np.abs(foo-1)"
   ]
  },
  {
   "cell_type": "code",
   "execution_count": 195,
   "metadata": {
    "collapsed": false
   },
   "outputs": [
    {
     "data": {
      "text/plain": [
       "array([0, 1, 0])"
      ]
     },
     "execution_count": 195,
     "metadata": {},
     "output_type": "execute_result"
    }
   ],
   "source": [
    "abs(foo-1)"
   ]
  },
  {
   "cell_type": "code",
   "execution_count": 196,
   "metadata": {
    "collapsed": false
   },
   "outputs": [],
   "source": [
    "scores = ne.random((3,2))"
   ]
  },
  {
   "cell_type": "code",
   "execution_count": 197,
   "metadata": {
    "collapsed": false
   },
   "outputs": [
    {
     "data": {
      "text/plain": [
       "array([[ 0.4570255 ,  0.75911605],\n",
       "       [ 0.02832772,  0.42227377],\n",
       "       [ 0.08182912,  0.53962359]])"
      ]
     },
     "execution_count": 197,
     "metadata": {},
     "output_type": "execute_result"
    }
   ],
   "source": [
    "scores"
   ]
  },
  {
   "cell_type": "code",
   "execution_count": 198,
   "metadata": {
    "collapsed": false
   },
   "outputs": [],
   "source": [
    "scores[np.arange(len(foo)), foo] = 0\n",
    "scores[np.arange(len(foo)), foo] = - np.sum(scores,axis=1)"
   ]
  },
  {
   "cell_type": "code",
   "execution_count": 210,
   "metadata": {
    "collapsed": false
   },
   "outputs": [
    {
     "data": {
      "text/plain": [
       "array([ 0.4570255 , -0.42227377,  0.08182912])"
      ]
     },
     "execution_count": 210,
     "metadata": {},
     "output_type": "execute_result"
    }
   ],
   "source": [
    "scores.T[0]"
   ]
  },
  {
   "cell_type": "code",
   "execution_count": 214,
   "metadata": {
    "collapsed": false
   },
   "outputs": [
    {
     "data": {
      "text/plain": [
       "array([[ 11.9069035 ,  11.45901241,   8.27848562],\n",
       "       [  8.44882384,  10.37237379,  10.64242298],\n",
       "       [ 11.80564127,  10.28597876,   9.43692923],\n",
       "       [ 10.669112  ,  10.61990538,  10.13865446],\n",
       "       [  7.45022773,  10.97805487,   7.76657418],\n",
       "       [ 10.71961456,   9.00169107,   9.3168201 ],\n",
       "       [ 11.68007865,  10.03949622,   9.48794609],\n",
       "       [  9.64191556,  10.35282199,   9.73172615],\n",
       "       [ 10.01608366,  11.00949655,   9.63735427],\n",
       "       [ 10.20623648,   9.73630682,  11.00073097]])"
      ]
     },
     "execution_count": 214,
     "metadata": {},
     "output_type": "execute_result"
    }
   ],
   "source": [
    "x+10"
   ]
  },
  {
   "cell_type": "code",
   "execution_count": 213,
   "metadata": {
    "collapsed": false,
    "scrolled": true
   },
   "outputs": [
    {
     "data": {
      "text/plain": [
       "array([[ 1.9069035 ,  1.45901241, -1.72151438],\n",
       "       [-1.55117616,  0.37237379,  0.64242298],\n",
       "       [ 1.80564127,  0.28597876, -0.56307077],\n",
       "       [ 0.669112  ,  0.61990538,  0.13865446],\n",
       "       [-2.54977227,  0.97805487, -2.23342582],\n",
       "       [ 0.71961456, -0.99830893, -0.6831799 ],\n",
       "       [ 1.68007865,  0.03949622, -0.51205391],\n",
       "       [-0.35808444,  0.35282199, -0.26827385],\n",
       "       [ 0.01608366,  1.00949655, -0.36264573],\n",
       "       [ 0.20623648, -0.26369318,  1.00073097]])"
      ]
     },
     "execution_count": 213,
     "metadata": {},
     "output_type": "execute_result"
    }
   ],
   "source": [
    "x = ne.randn(10,3)\n",
    "x"
   ]
  },
  {
   "cell_type": "code",
   "execution_count": 202,
   "metadata": {
    "collapsed": false
   },
   "outputs": [
    {
     "data": {
      "text/plain": [
       "array([[-0.65243052, -1.19632618,  1.60643081,  1.38717565,  0.41304609,\n",
       "         0.21845961,  0.14937048, -1.17697368,  1.29640879, -1.02450873],\n",
       "       [ 0.65243052,  1.19632618, -1.60643081, -1.38717565, -0.41304609,\n",
       "        -0.21845961, -0.14937048,  1.17697368, -1.29640879,  1.02450873]])"
      ]
     },
     "execution_count": 202,
     "metadata": {},
     "output_type": "execute_result"
    }
   ],
   "source": [
    "scores.T.dot(x.T)"
   ]
  },
  {
   "cell_type": "code",
   "execution_count": 75,
   "metadata": {
    "collapsed": false
   },
   "outputs": [],
   "source": [
    "grads_tensor = grads.reshape(int(grads.shape[0]/2), 2, grads.shape[1])"
   ]
  },
  {
   "cell_type": "code",
   "execution_count": 79,
   "metadata": {
    "collapsed": false
   },
   "outputs": [
    {
     "data": {
      "text/plain": [
       "array([[[ 0.39868385,  0.19167372,  0.52747791,  0.64830039,  0.44478711,\n",
       "          0.920966  ,  0.83739383,  0.6754045 ,  0.57081234,  0.18150875],\n",
       "        [-0.39868385, -0.19167372, -0.52747791, -0.64830039, -0.44478711,\n",
       "         -0.920966  , -0.83739383, -0.6754045 , -0.57081234, -0.18150875]],\n",
       "\n",
       "       [[-0.4208835 , -0.20234656, -0.55684911, -0.68439927, -0.46955389,\n",
       "         -0.97224752, -0.88402187, -0.71301259, -0.6025965 , -0.19161558],\n",
       "        [ 0.4208835 ,  0.20234656,  0.55684911,  0.68439927,  0.46955389,\n",
       "          0.97224752,  0.88402187,  0.71301259,  0.6025965 ,  0.19161558]]])"
      ]
     },
     "execution_count": 79,
     "metadata": {},
     "output_type": "execute_result"
    }
   ],
   "source": [
    "grads_tensor"
   ]
  },
  {
   "cell_type": "code",
   "execution_count": 80,
   "metadata": {
    "collapsed": false
   },
   "outputs": [
    {
     "data": {
      "text/plain": [
       "array([[-0.02219964, -0.01067284, -0.0293712 , -0.03609887, -0.02476678,\n",
       "        -0.05128153, -0.04662804, -0.03760809, -0.03178416, -0.01010683],\n",
       "       [ 0.02219964,  0.01067284,  0.0293712 ,  0.03609887,  0.02476678,\n",
       "         0.05128153,  0.04662804,  0.03760809,  0.03178416,  0.01010683]])"
      ]
     },
     "execution_count": 80,
     "metadata": {},
     "output_type": "execute_result"
    }
   ],
   "source": [
    "sum(grads_tensor)"
   ]
  },
  {
   "cell_type": "code",
   "execution_count": 58,
   "metadata": {
    "collapsed": false
   },
   "outputs": [],
   "source": [
    "np.broadcast_arrays?\n"
   ]
  },
  {
   "cell_type": "code",
   "execution_count": 48,
   "metadata": {
    "collapsed": true
   },
   "outputs": [],
   "source": [
    "np.dot?"
   ]
  },
  {
   "cell_type": "code",
   "execution_count": null,
   "metadata": {
    "collapsed": true
   },
   "outputs": [],
   "source": []
  }
 ],
 "metadata": {
  "kernelspec": {
   "display_name": "Python 3",
   "language": "python",
   "name": "python3"
  },
  "language_info": {
   "codemirror_mode": {
    "name": "ipython",
    "version": 3
   },
   "file_extension": ".py",
   "mimetype": "text/x-python",
   "name": "python",
   "nbconvert_exporter": "python",
   "pygments_lexer": "ipython3",
   "version": "3.5.2"
  }
 },
 "nbformat": 4,
 "nbformat_minor": 0
}
