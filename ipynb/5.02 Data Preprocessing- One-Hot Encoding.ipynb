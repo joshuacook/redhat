{
 "cells": [
  {
   "cell_type": "code",
   "execution_count": 16,
   "metadata": {
    "collapsed": false
   },
   "outputs": [],
   "source": [
    "import psycopg2\n",
    "import numpy as np\n",
    "import scipy.sparse as sp\n",
    "from os import environ\n",
    "conn = psycopg2.connect(dbname='postgres', user='postgres', host=environ['POSTGRES_1_PORT_5432_TCP_ADDR'])\n",
    "cur = conn.cursor()"
   ]
  },
  {
   "cell_type": "code",
   "execution_count": 20,
   "metadata": {
    "collapsed": false
   },
   "outputs": [],
   "source": [
    "eye_3 = np.eye(3)"
   ]
  },
  {
   "cell_type": "code",
   "execution_count": 21,
   "metadata": {
    "collapsed": false
   },
   "outputs": [],
   "source": [
    "conn = psycopg2.connect(dbname='postgres', user='postgres', host=environ['POSTGRES_1_PORT_5432_TCP_ADDR'])\n",
    "cur = conn.cursor()\n",
    "cur.execute(\"SELECT act_id FROM action LIMIT 1\")\n",
    "action_id = cur.fetchone()[0]\n",
    "\n",
    "def update_one_hot_encoding(conn, cur, vector, action_id):\n",
    "    sql = \"\"\"\n",
    "        UPDATE action \n",
    "        SET act_one_hot_encoding = {}\n",
    "        WHERE act_id='{}'\n",
    "        \"\"\".format(psycopg2.Binary(vector), action_id)\n",
    "    cur.execute(sql)\n",
    "    conn.commit()"
   ]
  },
  {
   "cell_type": "code",
   "execution_count": 22,
   "metadata": {
    "collapsed": false
   },
   "outputs": [],
   "source": [
    "update_one_hot_encoding(conn, cur, eye_3, action_id)"
   ]
  },
  {
   "cell_type": "code",
   "execution_count": 23,
   "metadata": {
    "collapsed": false
   },
   "outputs": [],
   "source": [
    "def fetch_one_hot_encoding(conn, cur, action_id):\n",
    "    sql = \"\"\"\n",
    "        SELECT act_one_hot_encoding\n",
    "        FROM action\n",
    "        WHERE act_id='{}'\n",
    "        \"\"\".format(action_id)\n",
    "    cur.execute(sql)\n",
    "    buf = cur.fetchone()[0]\n",
    "    return np.frombuffer(buf)"
   ]
  },
  {
   "cell_type": "code",
   "execution_count": 24,
   "metadata": {
    "collapsed": false,
    "scrolled": true
   },
   "outputs": [
    {
     "data": {
      "text/plain": [
       "array([ 1.,  0.,  0.,  0.,  1.,  0.,  0.,  0.,  1.])"
      ]
     },
     "execution_count": 24,
     "metadata": {},
     "output_type": "execute_result"
    }
   ],
   "source": [
    "fetch_one_hot_encoding(conn, cur, action_id)"
   ]
  },
  {
   "cell_type": "code",
   "execution_count": null,
   "metadata": {
    "collapsed": true
   },
   "outputs": [],
   "source": []
  }
 ],
 "metadata": {
  "kernelspec": {
   "display_name": "Python 3",
   "language": "python",
   "name": "python3"
  },
  "language_info": {
   "codemirror_mode": {
    "name": "ipython",
    "version": 3
   },
   "file_extension": ".py",
   "mimetype": "text/x-python",
   "name": "python",
   "nbconvert_exporter": "python",
   "pygments_lexer": "ipython3",
   "version": "3.5.2"
  }
 },
 "nbformat": 4,
 "nbformat_minor": 0
}
